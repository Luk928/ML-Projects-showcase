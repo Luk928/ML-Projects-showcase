{
 "cells": [
  {
   "cell_type": "code",
   "execution_count": 1,
   "metadata": {},
   "outputs": [],
   "source": [
    "# ! pip install opensmile"
   ]
  },
  {
   "cell_type": "code",
   "execution_count": 2,
   "metadata": {},
   "outputs": [
    {
     "name": "stderr",
     "output_type": "stream",
     "text": [
      "SoX could not be found!\n",
      "\n",
      "    If you do not have SoX, proceed here:\n",
      "     - - - http://sox.sourceforge.net/ - - -\n",
      "\n",
      "    If you do (or think that you should) have SoX, double-check your\n",
      "    path variables.\n",
      "    \n"
     ]
    }
   ],
   "source": [
    "import pandas as pd\n",
    "import numpy as np\n",
    "import opensmile\n",
    "from sklearn import *\n",
    "from os import *"
   ]
  },
  {
   "cell_type": "code",
   "execution_count": 3,
   "metadata": {},
   "outputs": [
    {
     "data": {
      "text/html": [
       "<div>\n",
       "<style scoped>\n",
       "    .dataframe tbody tr th:only-of-type {\n",
       "        vertical-align: middle;\n",
       "    }\n",
       "\n",
       "    .dataframe tbody tr th {\n",
       "        vertical-align: top;\n",
       "    }\n",
       "\n",
       "    .dataframe thead th {\n",
       "        text-align: right;\n",
       "    }\n",
       "</style>\n",
       "<table border=\"1\" class=\"dataframe\">\n",
       "  <thead>\n",
       "    <tr style=\"text-align: right;\">\n",
       "      <th></th>\n",
       "      <th></th>\n",
       "      <th></th>\n",
       "      <th>F0semitoneFrom27.5Hz_sma3nz_amean</th>\n",
       "      <th>F0semitoneFrom27.5Hz_sma3nz_stddevNorm</th>\n",
       "      <th>F0semitoneFrom27.5Hz_sma3nz_percentile20.0</th>\n",
       "      <th>F0semitoneFrom27.5Hz_sma3nz_percentile50.0</th>\n",
       "      <th>F0semitoneFrom27.5Hz_sma3nz_percentile80.0</th>\n",
       "      <th>F0semitoneFrom27.5Hz_sma3nz_pctlrange0-2</th>\n",
       "      <th>F0semitoneFrom27.5Hz_sma3nz_meanRisingSlope</th>\n",
       "      <th>F0semitoneFrom27.5Hz_sma3nz_stddevRisingSlope</th>\n",
       "      <th>F0semitoneFrom27.5Hz_sma3nz_meanFallingSlope</th>\n",
       "      <th>F0semitoneFrom27.5Hz_sma3nz_stddevFallingSlope</th>\n",
       "      <th>...</th>\n",
       "      <th>alphaRatioUV_sma3nz_amean</th>\n",
       "      <th>hammarbergIndexUV_sma3nz_amean</th>\n",
       "      <th>slopeUV0-500_sma3nz_amean</th>\n",
       "      <th>slopeUV500-1500_sma3nz_amean</th>\n",
       "      <th>loudnessPeaksPerSec</th>\n",
       "      <th>VoicedSegmentsPerSec</th>\n",
       "      <th>MeanVoicedSegmentLengthSec</th>\n",
       "      <th>StddevVoicedSegmentLengthSec</th>\n",
       "      <th>MeanUnvoicedSegmentLength</th>\n",
       "      <th>StddevUnvoicedSegmentLength</th>\n",
       "    </tr>\n",
       "    <tr>\n",
       "      <th>file</th>\n",
       "      <th>start</th>\n",
       "      <th>end</th>\n",
       "      <th></th>\n",
       "      <th></th>\n",
       "      <th></th>\n",
       "      <th></th>\n",
       "      <th></th>\n",
       "      <th></th>\n",
       "      <th></th>\n",
       "      <th></th>\n",
       "      <th></th>\n",
       "      <th></th>\n",
       "      <th></th>\n",
       "      <th></th>\n",
       "      <th></th>\n",
       "      <th></th>\n",
       "      <th></th>\n",
       "      <th></th>\n",
       "      <th></th>\n",
       "      <th></th>\n",
       "      <th></th>\n",
       "      <th></th>\n",
       "      <th></th>\n",
       "    </tr>\n",
       "  </thead>\n",
       "  <tbody>\n",
       "    <tr>\n",
       "      <th>./26-29_09_2017_KCL/ReadText/PD/ID02_pd_2_0_0.wav</th>\n",
       "      <th>0 days</th>\n",
       "      <th>00:02:37.556666</th>\n",
       "      <td>25.202938</td>\n",
       "      <td>0.185745</td>\n",
       "      <td>23.042215</td>\n",
       "      <td>24.956558</td>\n",
       "      <td>27.448084</td>\n",
       "      <td>4.405869</td>\n",
       "      <td>465.605164</td>\n",
       "      <td>764.285156</td>\n",
       "      <td>87.32093</td>\n",
       "      <td>159.257858</td>\n",
       "      <td>...</td>\n",
       "      <td>-12.127669</td>\n",
       "      <td>19.909361</td>\n",
       "      <td>-0.013324</td>\n",
       "      <td>-0.014434</td>\n",
       "      <td>2.354958</td>\n",
       "      <td>2.089022</td>\n",
       "      <td>0.238906</td>\n",
       "      <td>0.200616</td>\n",
       "      <td>0.223065</td>\n",
       "      <td>0.513576</td>\n",
       "    </tr>\n",
       "  </tbody>\n",
       "</table>\n",
       "<p>1 rows × 62 columns</p>\n",
       "</div>"
      ],
      "text/plain": [
       "                                                                          F0semitoneFrom27.5Hz_sma3nz_amean  \\\n",
       "file                                              start  end                                                  \n",
       "./26-29_09_2017_KCL/ReadText/PD/ID02_pd_2_0_0.wav 0 days 00:02:37.556666                          25.202938   \n",
       "\n",
       "                                                                          F0semitoneFrom27.5Hz_sma3nz_stddevNorm  \\\n",
       "file                                              start  end                                                       \n",
       "./26-29_09_2017_KCL/ReadText/PD/ID02_pd_2_0_0.wav 0 days 00:02:37.556666                                0.185745   \n",
       "\n",
       "                                                                          F0semitoneFrom27.5Hz_sma3nz_percentile20.0  \\\n",
       "file                                              start  end                                                           \n",
       "./26-29_09_2017_KCL/ReadText/PD/ID02_pd_2_0_0.wav 0 days 00:02:37.556666                                   23.042215   \n",
       "\n",
       "                                                                          F0semitoneFrom27.5Hz_sma3nz_percentile50.0  \\\n",
       "file                                              start  end                                                           \n",
       "./26-29_09_2017_KCL/ReadText/PD/ID02_pd_2_0_0.wav 0 days 00:02:37.556666                                   24.956558   \n",
       "\n",
       "                                                                          F0semitoneFrom27.5Hz_sma3nz_percentile80.0  \\\n",
       "file                                              start  end                                                           \n",
       "./26-29_09_2017_KCL/ReadText/PD/ID02_pd_2_0_0.wav 0 days 00:02:37.556666                                   27.448084   \n",
       "\n",
       "                                                                          F0semitoneFrom27.5Hz_sma3nz_pctlrange0-2  \\\n",
       "file                                              start  end                                                         \n",
       "./26-29_09_2017_KCL/ReadText/PD/ID02_pd_2_0_0.wav 0 days 00:02:37.556666                                  4.405869   \n",
       "\n",
       "                                                                          F0semitoneFrom27.5Hz_sma3nz_meanRisingSlope  \\\n",
       "file                                              start  end                                                            \n",
       "./26-29_09_2017_KCL/ReadText/PD/ID02_pd_2_0_0.wav 0 days 00:02:37.556666                                   465.605164   \n",
       "\n",
       "                                                                          F0semitoneFrom27.5Hz_sma3nz_stddevRisingSlope  \\\n",
       "file                                              start  end                                                              \n",
       "./26-29_09_2017_KCL/ReadText/PD/ID02_pd_2_0_0.wav 0 days 00:02:37.556666                                     764.285156   \n",
       "\n",
       "                                                                          F0semitoneFrom27.5Hz_sma3nz_meanFallingSlope  \\\n",
       "file                                              start  end                                                             \n",
       "./26-29_09_2017_KCL/ReadText/PD/ID02_pd_2_0_0.wav 0 days 00:02:37.556666                                      87.32093   \n",
       "\n",
       "                                                                          F0semitoneFrom27.5Hz_sma3nz_stddevFallingSlope  \\\n",
       "file                                              start  end                                                               \n",
       "./26-29_09_2017_KCL/ReadText/PD/ID02_pd_2_0_0.wav 0 days 00:02:37.556666                                      159.257858   \n",
       "\n",
       "                                                                          ...  \\\n",
       "file                                              start  end              ...   \n",
       "./26-29_09_2017_KCL/ReadText/PD/ID02_pd_2_0_0.wav 0 days 00:02:37.556666  ...   \n",
       "\n",
       "                                                                          alphaRatioUV_sma3nz_amean  \\\n",
       "file                                              start  end                                          \n",
       "./26-29_09_2017_KCL/ReadText/PD/ID02_pd_2_0_0.wav 0 days 00:02:37.556666                 -12.127669   \n",
       "\n",
       "                                                                          hammarbergIndexUV_sma3nz_amean  \\\n",
       "file                                              start  end                                               \n",
       "./26-29_09_2017_KCL/ReadText/PD/ID02_pd_2_0_0.wav 0 days 00:02:37.556666                       19.909361   \n",
       "\n",
       "                                                                          slopeUV0-500_sma3nz_amean  \\\n",
       "file                                              start  end                                          \n",
       "./26-29_09_2017_KCL/ReadText/PD/ID02_pd_2_0_0.wav 0 days 00:02:37.556666                  -0.013324   \n",
       "\n",
       "                                                                          slopeUV500-1500_sma3nz_amean  \\\n",
       "file                                              start  end                                             \n",
       "./26-29_09_2017_KCL/ReadText/PD/ID02_pd_2_0_0.wav 0 days 00:02:37.556666                     -0.014434   \n",
       "\n",
       "                                                                          loudnessPeaksPerSec  \\\n",
       "file                                              start  end                                    \n",
       "./26-29_09_2017_KCL/ReadText/PD/ID02_pd_2_0_0.wav 0 days 00:02:37.556666             2.354958   \n",
       "\n",
       "                                                                          VoicedSegmentsPerSec  \\\n",
       "file                                              start  end                                     \n",
       "./26-29_09_2017_KCL/ReadText/PD/ID02_pd_2_0_0.wav 0 days 00:02:37.556666              2.089022   \n",
       "\n",
       "                                                                          MeanVoicedSegmentLengthSec  \\\n",
       "file                                              start  end                                           \n",
       "./26-29_09_2017_KCL/ReadText/PD/ID02_pd_2_0_0.wav 0 days 00:02:37.556666                    0.238906   \n",
       "\n",
       "                                                                          StddevVoicedSegmentLengthSec  \\\n",
       "file                                              start  end                                             \n",
       "./26-29_09_2017_KCL/ReadText/PD/ID02_pd_2_0_0.wav 0 days 00:02:37.556666                      0.200616   \n",
       "\n",
       "                                                                          MeanUnvoicedSegmentLength  \\\n",
       "file                                              start  end                                          \n",
       "./26-29_09_2017_KCL/ReadText/PD/ID02_pd_2_0_0.wav 0 days 00:02:37.556666                   0.223065   \n",
       "\n",
       "                                                                          StddevUnvoicedSegmentLength  \n",
       "file                                              start  end                                           \n",
       "./26-29_09_2017_KCL/ReadText/PD/ID02_pd_2_0_0.wav 0 days 00:02:37.556666                     0.513576  \n",
       "\n",
       "[1 rows x 62 columns]"
      ]
     },
     "execution_count": 3,
     "metadata": {},
     "output_type": "execute_result"
    }
   ],
   "source": [
    "# To ustawienie może być lepsze, jednak ZNACZNIE bardziej czasochłonne\n",
    "# smile = opensmile.Smile(\n",
    "#     feature_set=opensmile.FeatureSet.ComParE_2016,\n",
    "#     feature_level=opensmile.FeatureLevel.Functionals,\n",
    "# )\n",
    "smile = opensmile.Smile(\n",
    "    feature_set=opensmile.FeatureSet.GeMAPSv01b,\n",
    "    feature_level=opensmile.FeatureLevel.Functionals,\n",
    ")\n",
    "y = smile.process_file('./26-29_09_2017_KCL/ReadText/PD/ID02_pd_2_0_0.wav')\n",
    "y"
   ]
  },
  {
   "cell_type": "code",
   "execution_count": null,
   "metadata": {},
   "outputs": [
    {
     "ename": "KeyboardInterrupt",
     "evalue": "",
     "output_type": "error",
     "traceback": [
      "\u001b[1;31m---------------------------------------------------------------------------\u001b[0m",
      "\u001b[1;31mKeyboardInterrupt\u001b[0m                         Traceback (most recent call last)",
      "\u001b[1;32m_ctypes/callbacks.c\u001b[0m in \u001b[0;36m'calling callback function'\u001b[1;34m()\u001b[0m\n",
      "\u001b[1;32m~\\anaconda3\\lib\\site-packages\\opensmile\\core\\SMILEapi.py\u001b[0m in \u001b[0;36minternal_callback_ex\u001b[1;34m(data, nt, n, meta, _)\u001b[0m\n\u001b[0;32m    360\u001b[0m         \"\"\"\n\u001b[0;32m    361\u001b[0m \u001b[1;33m\u001b[0m\u001b[0m\n\u001b[1;32m--> 362\u001b[1;33m         \u001b[1;32mdef\u001b[0m \u001b[0minternal_callback_ex\u001b[0m\u001b[1;33m(\u001b[0m\u001b[0mdata\u001b[0m\u001b[1;33m,\u001b[0m \u001b[0mnt\u001b[0m\u001b[1;33m,\u001b[0m \u001b[0mn\u001b[0m\u001b[1;33m,\u001b[0m \u001b[0mmeta\u001b[0m\u001b[1;33m:\u001b[0m \u001b[0mPOINTER\u001b[0m\u001b[1;33m(\u001b[0m\u001b[0mFrameMetaData\u001b[0m\u001b[1;33m)\u001b[0m\u001b[1;33m,\u001b[0m \u001b[0m_\u001b[0m\u001b[1;33m)\u001b[0m\u001b[1;33m:\u001b[0m\u001b[1;33m\u001b[0m\u001b[1;33m\u001b[0m\u001b[0m\n\u001b[0m\u001b[0;32m    363\u001b[0m             \u001b[0mnumpy_array\u001b[0m \u001b[1;33m=\u001b[0m \u001b[0mnp\u001b[0m\u001b[1;33m.\u001b[0m\u001b[0mctypeslib\u001b[0m\u001b[1;33m.\u001b[0m\u001b[0mas_array\u001b[0m\u001b[1;33m(\u001b[0m\u001b[0mdata\u001b[0m\u001b[1;33m,\u001b[0m \u001b[0mshape\u001b[0m\u001b[1;33m=\u001b[0m\u001b[1;33m(\u001b[0m\u001b[0mnt\u001b[0m\u001b[1;33m,\u001b[0m \u001b[0mn\u001b[0m\u001b[1;33m)\u001b[0m\u001b[1;33m)\u001b[0m\u001b[1;33m\u001b[0m\u001b[1;33m\u001b[0m\u001b[0m\n\u001b[0;32m    364\u001b[0m             \u001b[0mcallback\u001b[0m\u001b[1;33m(\u001b[0m\u001b[0mnumpy_array\u001b[0m\u001b[1;33m,\u001b[0m \u001b[0mmeta\u001b[0m\u001b[1;33m.\u001b[0m\u001b[0mcontents\u001b[0m\u001b[1;33m)\u001b[0m\u001b[1;33m\u001b[0m\u001b[1;33m\u001b[0m\u001b[0m\n",
      "\u001b[1;31mKeyboardInterrupt\u001b[0m: "
     ]
    },
    {
     "name": "stderr",
     "output_type": "stream",
     "text": [
      "C:\\Users\\lukoz\\anaconda3\\lib\\site-packages\\opensmile\\core\\smile.py:227: UserWarning: Segment too short, filling with NaN.\n",
      "  warnings.warn(\n"
     ]
    }
   ],
   "source": [
    "hc_list = smile.process_folder('./26-29_09_2017_KCL/ReadText/HC/')\n",
    "pd_list = smile.process_folder('./26-29_09_2017_KCL/ReadText/PD/')\n",
    "hc_list['targetValue'] = 0\n",
    "pd_list['targetValue'] = 1"
   ]
  },
  {
   "cell_type": "code",
   "execution_count": null,
   "metadata": {},
   "outputs": [],
   "source": [
    "hc_list"
   ]
  },
  {
   "cell_type": "code",
   "execution_count": null,
   "metadata": {},
   "outputs": [],
   "source": [
    "pd_list"
   ]
  },
  {
   "cell_type": "code",
   "execution_count": null,
   "metadata": {},
   "outputs": [],
   "source": [
    "full_list = pd_list.append(hc_list)"
   ]
  },
  {
   "cell_type": "code",
   "execution_count": null,
   "metadata": {},
   "outputs": [],
   "source": [
    "full_list.reset_index(drop=True, inplace=True)\n",
    "y = full_list.pop('targetValue')\n",
    "y = y.to_numpy()\n",
    "X = full_list.to_numpy()\n",
    "X"
   ]
  },
  {
   "cell_type": "code",
   "execution_count": null,
   "metadata": {},
   "outputs": [],
   "source": [
    "y"
   ]
  },
  {
   "cell_type": "code",
   "execution_count": null,
   "metadata": {},
   "outputs": [],
   "source": [
    "X_train, X_test, y_train, y_test = model_selection.train_test_split(X, y, test_size=0.3, random_state=55)"
   ]
  },
  {
   "cell_type": "code",
   "execution_count": null,
   "metadata": {},
   "outputs": [],
   "source": [
    "# TESTING ML\n",
    "from sklearn.ensemble import RandomForestClassifier\n",
    "clf = RandomForestClassifier()\n",
    "clf.fit(X_train, y_train)\n",
    "Y_pred=clf.predict(X_test)\n",
    "print(\"Accuracy:\",metrics.accuracy_score(y_test, Y_pred))"
   ]
  },
  {
   "cell_type": "code",
   "execution_count": null,
   "metadata": {},
   "outputs": [],
   "source": []
  }
 ],
 "metadata": {
  "kernelspec": {
   "display_name": "Python 3",
   "language": "python",
   "name": "python3"
  },
  "language_info": {
   "codemirror_mode": {
    "name": "ipython",
    "version": 3
   },
   "file_extension": ".py",
   "mimetype": "text/x-python",
   "name": "python",
   "nbconvert_exporter": "python",
   "pygments_lexer": "ipython3",
   "version": "3.8.3"
  }
 },
 "nbformat": 4,
 "nbformat_minor": 4
}
