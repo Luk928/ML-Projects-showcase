{
 "cells": [
  {
   "cell_type": "markdown",
   "metadata": {},
   "source": [
    "### Łukasz Ozimek 236529\n",
    "### Laboratorium 4\n",
    "\n",
    "Zad 1:\n",
    "[Link do artykułu](https://www.ncbi.nlm.nih.gov/pmc/articles/PMC5433035/)\n",
    "\n",
    "Zad 2:\n",
    "Implementacja kodu z instrukcji poniżej."
   ]
  },
  {
   "cell_type": "code",
   "execution_count": 40,
   "metadata": {},
   "outputs": [],
   "source": [
    "import numpy as np\n",
    "from scipy import stats"
   ]
  },
  {
   "cell_type": "code",
   "execution_count": 41,
   "metadata": {},
   "outputs": [],
   "source": [
    "data1 = np.random.randn(10) + 1\n",
    "data2 = np.random.randn(10)"
   ]
  },
  {
   "cell_type": "code",
   "execution_count": 42,
   "metadata": {},
   "outputs": [],
   "source": [
    "mean1, mean2 = data1.mean(), data2.mean()"
   ]
  },
  {
   "cell_type": "code",
   "execution_count": 43,
   "metadata": {},
   "outputs": [],
   "source": [
    "std1, std2 = data1.std(ddof=1), data2.std(ddof=1)"
   ]
  },
  {
   "cell_type": "code",
   "execution_count": 44,
   "metadata": {},
   "outputs": [],
   "source": [
    "n1, n2 = len(data1), len(data2)\n",
    "se1, se2 = std1/np.sqrt(n1), std2/np.sqrt(n2)"
   ]
  },
  {
   "cell_type": "code",
   "execution_count": 45,
   "metadata": {},
   "outputs": [
    {
     "name": "stdout",
     "output_type": "stream",
     "text": [
      "True\n",
      "True\n"
     ]
    }
   ],
   "source": [
    "# Testing, if scipy method returns the same value as numpy\n",
    "se1_alt, se2_alt = stats.sem(data1), stats.sem(data2)\n",
    "print(se1_alt == se1)\n",
    "print(se2_alt == se2)"
   ]
  },
  {
   "cell_type": "code",
   "execution_count": 46,
   "metadata": {},
   "outputs": [],
   "source": [
    "sed = np.sqrt(se1**2+se2**2)"
   ]
  },
  {
   "cell_type": "code",
   "execution_count": 47,
   "metadata": {},
   "outputs": [],
   "source": [
    "t_stat = (mean1-mean2)/sed"
   ]
  },
  {
   "cell_type": "code",
   "execution_count": 48,
   "metadata": {},
   "outputs": [],
   "source": [
    "df = n1+n2-2"
   ]
  },
  {
   "cell_type": "code",
   "execution_count": 49,
   "metadata": {},
   "outputs": [],
   "source": [
    "alpha = 0.05\n",
    "cv = stats.t.ppf(1.0 - alpha,df)"
   ]
  },
  {
   "cell_type": "code",
   "execution_count": 50,
   "metadata": {},
   "outputs": [],
   "source": [
    "p = (1-stats.t.cdf(np.abs(t_stat),df))*2"
   ]
  },
  {
   "cell_type": "code",
   "execution_count": 51,
   "metadata": {},
   "outputs": [],
   "source": [
    "def independent_ttest(data1, data2, alpha):\n",
    "    mean1, mean2 = data1.mean(), data2.mean()\n",
    "    se1, se2 = stats.sem(data1), stats.sem(data2)\n",
    "    sed = np.sqrt(se1**2.0+se2**2.0)\n",
    "    t_stat = (mean1-mean2)/sed\n",
    "    df = n1+n2-2\n",
    "    cv = stats.t.ppf(1.0 - alpha,df)\n",
    "    p = (1.0-stats.t.cdf(abs(t_stat),df))*2.0\n",
    "    return t_stat, df, cv, p"
   ]
  },
  {
   "cell_type": "code",
   "execution_count": 52,
   "metadata": {},
   "outputs": [
    {
     "name": "stdout",
     "output_type": "stream",
     "text": [
      "t=-2.262, p=0.025\n"
     ]
    }
   ],
   "source": [
    "np.random.seed(1)\n",
    "data1 = 5 * np.random.randn(100) + 50\n",
    "data2 = 5 * np.random.randn(100) + 51\n",
    "stat, p = stats.ttest_ind(data1, data2)\n",
    "print('t=%.3f, p=%.3f' % (stat,p))"
   ]
  },
  {
   "cell_type": "code",
   "execution_count": 53,
   "metadata": {},
   "outputs": [
    {
     "name": "stdout",
     "output_type": "stream",
     "text": [
      "t=-2.262, d=18, cv=1.734, p=0.036\n"
     ]
    }
   ],
   "source": [
    "alpha = 0.05\n",
    "t_stat, df, cv, p = independent_ttest(data1, data2, alpha)\n",
    "print('t=%.3f, d=%d, cv=%.3f, p=%.3f' % (t_stat,df,cv,p))"
   ]
  },
  {
   "cell_type": "code",
   "execution_count": 54,
   "metadata": {},
   "outputs": [
    {
     "name": "stdout",
     "output_type": "stream",
     "text": [
      "Reject the null hypothesis that the means are equal.\n",
      "Reject the null hypothesis that the means are equal.\n"
     ]
    }
   ],
   "source": [
    "if abs(t_stat) <= cv:\n",
    "    print('Accept null hypothesis that the means are equal.')\n",
    "else:\n",
    "    print('Reject the null hypothesis that the means are equal.')\n",
    "if p > alpha:\n",
    "    print('Accept null hypothesis that the means are equal.')\n",
    "else:\n",
    "    print('Reject the null hypothesis that the means are equal.')"
   ]
  },
  {
   "cell_type": "code",
   "execution_count": 55,
   "metadata": {},
   "outputs": [],
   "source": [
    "def dependent_ttest(data1, data2, aplha):\n",
    "    mean1, mean2 = data1.mean(), data2.mean()\n",
    "    n = len(data1)\n",
    "    d1 = sum([(data1[i]-data2[i])**2 for i in range(n)])\n",
    "    d2 = sum([(data1[i]-data2[i]) for i in range(n)])\n",
    "    sd = np.sqrt((d1-(d2**2/n))/(n-1))\n",
    "    sed = sd/np.sqrt(n)\n",
    "    t_stat = (mean1-mean2)/sed\n",
    "    df = n-1\n",
    "    cv = stats.t.ppf(1.0-alpha,df)\n",
    "    p = (1.0-stats.t.cdf(abs(t_stat),df))*2.0\n",
    "    return t_stat, df, cv, p"
   ]
  },
  {
   "cell_type": "code",
   "execution_count": 56,
   "metadata": {},
   "outputs": [
    {
     "name": "stdout",
     "output_type": "stream",
     "text": [
      "t=-2.372, p=0.020\n"
     ]
    }
   ],
   "source": [
    "stat, p = stats.ttest_rel(data1, data2)\n",
    "print('t=%.3f, p=%.3f' % (stat,p))"
   ]
  },
  {
   "cell_type": "code",
   "execution_count": 57,
   "metadata": {},
   "outputs": [
    {
     "name": "stdout",
     "output_type": "stream",
     "text": [
      "t=-2.372, d=99, cv=1.660, p=0.020\n",
      "Reject the null hypothesis that the means are equal.\n",
      "Reject the null hypothesis that the means are equal.\n"
     ]
    }
   ],
   "source": [
    "alpha = 0.05\n",
    "t_stat, df, cv, p = dependent_ttest(data1, data2, alpha)\n",
    "print('t=%.3f, d=%d, cv=%.3f, p=%.3f' % (t_stat,df,cv,p))\n",
    "if abs(t_stat) <= cv:\n",
    "    print('Accept null hypothesis that the means are equal.')\n",
    "else:\n",
    "    print('Reject the null hypothesis that the means are equal.')\n",
    "if p > alpha:\n",
    "    print('Accept null hypothesis that the means are equal.')\n",
    "else:\n",
    "    print('Reject the null hypothesis that the means are equal.')"
   ]
  },
  {
   "cell_type": "code",
   "execution_count": null,
   "metadata": {},
   "outputs": [],
   "source": []
  }
 ],
 "metadata": {
  "kernelspec": {
   "display_name": "Python 3",
   "language": "python",
   "name": "python3"
  },
  "language_info": {
   "codemirror_mode": {
    "name": "ipython",
    "version": 3
   },
   "file_extension": ".py",
   "mimetype": "text/x-python",
   "name": "python",
   "nbconvert_exporter": "python",
   "pygments_lexer": "ipython3",
   "version": "3.8.3"
  }
 },
 "nbformat": 4,
 "nbformat_minor": 4
}
