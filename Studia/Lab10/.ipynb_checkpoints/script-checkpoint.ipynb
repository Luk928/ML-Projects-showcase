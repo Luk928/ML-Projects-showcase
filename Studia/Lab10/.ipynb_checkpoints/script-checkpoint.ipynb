{
 "cells": [
  {
   "cell_type": "markdown",
   "metadata": {},
   "source": [
    "## Łukasz Ozimek 236529\n",
    "## Laboratorium 10\n",
    "\n",
    "### Instrukcja\n",
    "1. Należy umieścić obrazy wykorzystane do treningu w folderze *training_sets*. Obrazy należy podzielić na dwa zestawy: treningowy w folderze *TRAIN* i walidacyjny w folderze *VAL*. W każdym z tych folderów muszą znajdywać się dwa foldery - po jednym dla każdej z badanych klas zdjęć, czyli jeden folder dla zdjęć klatki piersiowej i jeden dla zdjęć brzucha. W folderach tych należy umieścić odpowiednie obrazy. Zestaw treningowy powinien składać się z ok 80% posiadanych zdjęć (co najmniej 60 obrazów należących do obu klas), a zestaw walidacyjny z pozostałych 20% (co najmniej 10 obrazów z obu klas)\n",
    "2. Obrazy, dla których klasa ma zostać przeiwdziana należy umieścić bezpośrednio w folderze *predict_imgs*\n",
    "3. Modele ładowane są z folderu *models* i są z niego również wczytywane\n",
    "4. Należy uruchomić skrypt. Poniżej opisano sposób uruchamiania i obsługi skryptu.\n",
    "    1. W folderze głównym, zawierającym plik *classifier.py* przytrzymać klawisz shift i jednocześnie kliknąć prawym przyciskiem myszy i wybrać z menu opcję \"Otwórz tutaj okno programu PowerShell\".\n",
    "    2. Wpisać odpowiednią komendę. W poniższych komendach \"#NAZWA-MODELU\" należy zastąpić nazwą modelu znajdującego się w folderze *models*, np test_model.h5. Komendy:\n",
    "        * python .\\classifier.py train save #NAZWA-MODELU - komenda służąca do treningu modelu, zapisaniu go do pliku o nazwie podanej w parametrze #NAZWA_MODELU oraz predykcji klas obrazów z folderu *predict_imgs*\n",
    "        \n",
    "        * python .\\classifier.py train nosave - komenda służąca do treningu modelu i predykcji obrazów bez zapisu modelu do pliku\n",
    "        \n",
    "        * python .\\classifier.py predict save test_model_2.h5 - komenda slużąca do wczytania modelu o nazwie #NAZWA_MODELU z folderu *models* oraz wykorzystania go do wykonania predykcji klas obrazów z folderu *predict_imgs*\n",
    "        \n",
    "    3. W konsoli pojawią się informacje dotyczące postępu prac. Napis \"DONE\" oznacza zakończenie pracy skryptu.\n",
    "5. Parametry treningu (strata i dokładność dla zestawów treningowego i walidacyjnego) przedstawione są na rysunku o nazwie *Training_parameters.png* w folderze *metrics*. Raport przypisujący klasę do każdego pliku zapisany jest w pliku *raport.csv* w folderze *metrics*. Raport ma formę dwóch kolumn: pierwsza to nazwa pliku znajdującego się w folderze *predict_imgs*, a druga kolumna to klasa przypisana do danego pliku. Pliki te są nadpisywane z każdym działaniem skryptu."
   ]
  },
  {
   "cell_type": "code",
   "execution_count": 56,
   "metadata": {},
   "outputs": [],
   "source": [
    "import numpy as np # Module for numercial operations\n",
    "import pandas as pd # Module to handle table operations\n",
    "import tensorflow as tf # Module for deep learning\n",
    "import sys # Module to use system commands\n",
    "import matplotlib.pyplot as plt # Module to draw graphs and plots\n",
    "import os\n",
    "%matplotlib inline"
   ]
  },
  {
   "cell_type": "markdown",
   "metadata": {},
   "source": [
    "W pierwszej kolejności ustalone są główne parametry: tryb pracy, zapis modelu, nazwa modelu, docelowe rozmiary obrazów, wielkość paczek generatora, lokacje danych treningowych oraz danych do przewidywania. \n",
    "\n",
    "Tryb pracy jest ustalany przez użytkownikam jeżeli użytkownik wpisze 'train' w konsoli, to model jest trenowany, a potem przewiduje. Jeżeli użytkownik wpisze coś innego, to algorytm wczyta podany przez użytkownika model po czym przeprowadzi tylko predykcję.\n",
    "\n",
    "Zapis modelu jeżeli jest ustawiony na 'save', to wytrenowany model zostanie zapisany, a jeśli na coś innego to nie.\n",
    "\n",
    "W przypadku treningu nazwa modelu oznacza nazwę, pod jaką model zostanie zapisany w folderze *models*, w przypadku przewidywania oznacza nazwę modelu, który zostanie wczytany (również z folderu *models*).\n",
    "\n",
    "Jako że w Jupyter Notebook ciężko jest wprowadzić komendy systemowe, to w tym pliku polecenia wykorzystujące sys.argv są wykomentowane, a zmienne są ręcznie zainicjalizowane."
   ]
  },
  {
   "cell_type": "code",
   "execution_count": 57,
   "metadata": {},
   "outputs": [
    {
     "name": "stdout",
     "output_type": "stream",
     "text": [
      "Initializing variables\n"
     ]
    }
   ],
   "source": [
    "print('Initializing variables')\n",
    "# mode = sys.argv[1] == 'train' # Getting boolean value from command line\n",
    "# save = sys.argv[2] == 'save' # Getting boolean value from command line\n",
    "# if len(sys.argv)>3: # Model name as optional argument\n",
    "#     model_name = './models/' + sys.argv[3] # Getting model path\n",
    "# else:\n",
    "#     model_name = ''\n",
    "train_data_dir = './training_sets/TRAIN' #Directory of training data\n",
    "validation_data_dir = './training_sets/VAL' #Directory of validation data\n",
    "test_data_dir = './predict_imgs' #Directory of test data\n",
    "img_size = (250, 250) # Image size\n",
    "batch_size = 20 # Batch size for generator\n",
    "\n",
    "\n",
    "mode = True\n",
    "save = True\n",
    "model_name = './models/test_model.h5'"
   ]
  },
  {
   "cell_type": "markdown",
   "metadata": {},
   "source": [
    "Następnie zastosowano klasę *ImageDataGenerator* do podawania obrazów do modelu. Obrazy ze zbioru treningowego są nie tylko ładowane, ale również ich ilość jest cyfrowo zwiększana poprzez ścinanie (ang *shear*), przybliżanie (ang *zoom*), obrót (ang *rotation*) obrazów, zmianę ich rozmiarów poprzecznych i podłużnych (ang *width shift* oraz *height shift*) oraz ich odbicie wdłuż osi poprzecznej (ang *horizontal flip*). Sztuczne zwiększane zestawu treningowego pozwala zwalczać przetrenowanie oraz tworzyć lepsze modele. Zestaw walidacyjny nie jest sztucznie zwiększane.\n",
    "\n",
    "**UWAGA** W kodzie źródłowym zestaw walidacyjny również jest tworzone za pomocą *train_datagen*, a *val_datagen* jest stworzony, ale nie użyty. Uznałem, że jest to błąd i sam wykorzystałem *val_datagen*. Ponadto wszystkie znalezione w internecie źródła są zgodne co do faktu, że nie powinno się stosować data augmentation na zestawie walidacyjnym, co jest zrobione w kodzie źródłowym przez zastosowanie złego generatora. Ponadto w pliku .py warunki *if* są rzadziej powtarzane, gdyż kod nie znajduje się w osobnych komórkach."
   ]
  },
  {
   "cell_type": "code",
   "execution_count": 58,
   "metadata": {},
   "outputs": [
    {
     "name": "stdout",
     "output_type": "stream",
     "text": [
      "Reading images\n",
      "Found 65 images belonging to 2 classes.\n",
      "Found 10 images belonging to 2 classes.\n"
     ]
    }
   ],
   "source": [
    "if mode:\n",
    "    print('Reading images')\n",
    "    train_datagen = tf.keras.preprocessing.image.ImageDataGenerator(\n",
    "            rescale=1./255, # normalizing pixel values from [0,255] to [0,1]\n",
    "            shear_range=0.2, \n",
    "            zoom_range=0.2,  \n",
    "            rotation_range=20, \n",
    "            width_shift_range=0.2, \n",
    "            height_shift_range=0.2,\n",
    "            horizontal_flip=True) \n",
    "\n",
    "    val_datagen = tf.keras.preprocessing.image.ImageDataGenerator(\n",
    "             rescale=1./255)\n",
    "\n",
    "    # Creating training set with data augumentation\n",
    "    train_generator = train_datagen.flow_from_directory(\n",
    "        train_data_dir,\n",
    "        target_size=img_size,\n",
    "        batch_size=batch_size,\n",
    "        class_mode='binary')\n",
    "\n",
    "    # Creating validation set without data augumentation\n",
    "    validation_generator = val_datagen.flow_from_directory(\n",
    "        validation_data_dir,\n",
    "        target_size=img_size,\n",
    "        batch_size=batch_size,\n",
    "        class_mode='binary')"
   ]
  },
  {
   "cell_type": "markdown",
   "metadata": {},
   "source": [
    "W następnej kolejności zdefiniowano model. Zaimportowano znany model InceptionV3, który z wysoką dokładnością potrafi przewidywać 1000 klas na obrazach. Jednak badany problem ma tylko dwie klasy, a nie 1000. Rozwiązaniem które zastosowano, aby rozwiązać ten problem jest usunięcie końcowych warstw modelu InceptionV3 oraz zastąpienie ich własnym, mniej skomplikowanym rozwiązaniem. Badany problem klasyfikacji jest binarny, więc zastosowano odpowiednią funkcję straty. Wykorzystano parametry optymalizatora podane w załączonej w poleceniu publikacji."
   ]
  },
  {
   "cell_type": "code",
   "execution_count": 59,
   "metadata": {},
   "outputs": [
    {
     "name": "stdout",
     "output_type": "stream",
     "text": [
      "Creating model\n"
     ]
    }
   ],
   "source": [
    "if mode:\n",
    "    print('Creating model')\n",
    "    base_model = tf.keras.applications.InceptionV3(weights='imagenet', include_top=False,\n",
    "                                                   input_shape=(img_size[0], img_size[1], 3))\n",
    "    model_top = tf.keras.models.Sequential()\n",
    "    model_top.add(tf.keras.layers.GlobalAveragePooling2D(input_shape=base_model.output_shape[1:], data_format=None)),  \n",
    "    model_top.add(tf.keras.layers.Dense(256, activation='relu'))\n",
    "    model_top.add(tf.keras.layers.Dropout(0.5))\n",
    "    model_top.add(tf.keras.layers.Dense(1, activation='sigmoid')) \n",
    "\n",
    "    model = tf.keras.Model(inputs=base_model.input, outputs=model_top(base_model.output))\n",
    "\n",
    "    model.compile(optimizer=tf.keras.optimizers.Adam(lr=0.0001, beta_1=0.9, beta_2=0.999, epsilon=1e-08,decay=0.0), \n",
    "                  loss=tf.keras.losses.BinaryCrossentropy(), metrics=['accuracy'])"
   ]
  },
  {
   "cell_type": "markdown",
   "metadata": {},
   "source": [
    "Następnie przeprowadzono trening modelu. Funkcja *fir_generator* została zdeprecjonowana, więc zostala zastąpiona funkcją *fit*. Zmieniono również parametry traningu takie jak ilość epok i kroków na epokę. Ponadto dodano możliwość zapisu modelu do pliku w celu późniejszego wczytywania. Po każdej epoce model sprawdza, czy strata na zestawie walidacji uległa poprawie i jeżeli tak się stało to zapisuje model (lub nadpisuje jeżeli został stworzony wcześniej)."
   ]
  },
  {
   "cell_type": "code",
   "execution_count": 60,
   "metadata": {},
   "outputs": [
    {
     "name": "stdout",
     "output_type": "stream",
     "text": [
      "Commencing training\n",
      "Epoch 1/15\n",
      "4/4 [==============================] - ETA: 0s - loss: 0.5937 - accuracy: 0.6308\n",
      "Epoch 00001: val_loss improved from inf to 0.43536, saving model to ./models\\test_model.h5\n",
      "4/4 [==============================] - 11s 3s/step - loss: 0.5937 - accuracy: 0.6308 - val_loss: 0.4354 - val_accuracy: 1.0000\n",
      "Epoch 2/15\n",
      "4/4 [==============================] - ETA: 0s - loss: 0.2567 - accuracy: 0.9846\n",
      "Epoch 00002: val_loss improved from 0.43536 to 0.27358, saving model to ./models\\test_model.h5\n",
      "4/4 [==============================] - 13s 3s/step - loss: 0.2567 - accuracy: 0.9846 - val_loss: 0.2736 - val_accuracy: 1.0000\n",
      "Epoch 3/15\n",
      "4/4 [==============================] - ETA: 0s - loss: 0.1303 - accuracy: 1.0000\n",
      "Epoch 00003: val_loss improved from 0.27358 to 0.24654, saving model to ./models\\test_model.h5\n",
      "4/4 [==============================] - 10s 3s/step - loss: 0.1303 - accuracy: 1.0000 - val_loss: 0.2465 - val_accuracy: 0.9000\n",
      "Epoch 4/15\n",
      "4/4 [==============================] - ETA: 0s - loss: 0.0911 - accuracy: 0.9846\n",
      "Epoch 00004: val_loss improved from 0.24654 to 0.16520, saving model to ./models\\test_model.h5\n",
      "4/4 [==============================] - 13s 3s/step - loss: 0.0911 - accuracy: 0.9846 - val_loss: 0.1652 - val_accuracy: 1.0000\n",
      "Epoch 5/15\n",
      "4/4 [==============================] - ETA: 0s - loss: 0.0436 - accuracy: 1.0000\n",
      "Epoch 00005: val_loss improved from 0.16520 to 0.09949, saving model to ./models\\test_model.h5\n",
      "4/4 [==============================] - 13s 3s/step - loss: 0.0436 - accuracy: 1.0000 - val_loss: 0.0995 - val_accuracy: 1.0000\n",
      "Epoch 6/15\n",
      "4/4 [==============================] - ETA: 0s - loss: 0.0393 - accuracy: 0.9846\n",
      "Epoch 00006: val_loss improved from 0.09949 to 0.06315, saving model to ./models\\test_model.h5\n",
      "4/4 [==============================] - 10s 3s/step - loss: 0.0393 - accuracy: 0.9846 - val_loss: 0.0631 - val_accuracy: 1.0000\n",
      "Epoch 7/15\n",
      "4/4 [==============================] - ETA: 0s - loss: 0.0690 - accuracy: 0.9692\n",
      "Epoch 00007: val_loss improved from 0.06315 to 0.02775, saving model to ./models\\test_model.h5\n",
      "4/4 [==============================] - 11s 3s/step - loss: 0.0690 - accuracy: 0.9692 - val_loss: 0.0278 - val_accuracy: 1.0000\n",
      "Epoch 8/15\n",
      "4/4 [==============================] - ETA: 0s - loss: 0.0069 - accuracy: 1.0000\n",
      "Epoch 00008: val_loss improved from 0.02775 to 0.01198, saving model to ./models\\test_model.h5\n",
      "4/4 [==============================] - 10s 3s/step - loss: 0.0069 - accuracy: 1.0000 - val_loss: 0.0120 - val_accuracy: 1.0000\n",
      "Epoch 9/15\n",
      "4/4 [==============================] - ETA: 0s - loss: 0.0438 - accuracy: 0.9846\n",
      "Epoch 00009: val_loss improved from 0.01198 to 0.00821, saving model to ./models\\test_model.h5\n",
      "4/4 [==============================] - 11s 3s/step - loss: 0.0438 - accuracy: 0.9846 - val_loss: 0.0082 - val_accuracy: 1.0000\n",
      "Epoch 10/15\n",
      "4/4 [==============================] - ETA: 0s - loss: 0.0180 - accuracy: 1.0000\n",
      "Epoch 00010: val_loss improved from 0.00821 to 0.00717, saving model to ./models\\test_model.h5\n",
      "4/4 [==============================] - 12s 3s/step - loss: 0.0180 - accuracy: 1.0000 - val_loss: 0.0072 - val_accuracy: 1.0000\n",
      "Epoch 11/15\n",
      "4/4 [==============================] - ETA: 0s - loss: 0.0200 - accuracy: 1.0000\n",
      "Epoch 00011: val_loss improved from 0.00717 to 0.00510, saving model to ./models\\test_model.h5\n",
      "4/4 [==============================] - 13s 3s/step - loss: 0.0200 - accuracy: 1.0000 - val_loss: 0.0051 - val_accuracy: 1.0000\n",
      "Epoch 12/15\n",
      "4/4 [==============================] - ETA: 0s - loss: 0.0503 - accuracy: 0.9846\n",
      "Epoch 00012: val_loss improved from 0.00510 to 0.00200, saving model to ./models\\test_model.h5\n",
      "4/4 [==============================] - 16s 4s/step - loss: 0.0503 - accuracy: 0.9846 - val_loss: 0.0020 - val_accuracy: 1.0000\n",
      "Epoch 13/15\n",
      "4/4 [==============================] - ETA: 0s - loss: 0.0067 - accuracy: 1.0000\n",
      "Epoch 00013: val_loss improved from 0.00200 to 0.00108, saving model to ./models\\test_model.h5\n",
      "4/4 [==============================] - 12s 3s/step - loss: 0.0067 - accuracy: 1.0000 - val_loss: 0.0011 - val_accuracy: 1.0000\n",
      "Epoch 14/15\n",
      "4/4 [==============================] - ETA: 0s - loss: 0.0961 - accuracy: 0.9692\n",
      "Epoch 00014: val_loss did not improve from 0.00108\n",
      "4/4 [==============================] - 15s 4s/step - loss: 0.0961 - accuracy: 0.9692 - val_loss: 0.0015 - val_accuracy: 1.0000\n",
      "Epoch 15/15\n",
      "4/4 [==============================] - ETA: 0s - loss: 0.0085 - accuracy: 1.0000\n",
      "Epoch 00015: val_loss did not improve from 0.00108\n",
      "4/4 [==============================] - 12s 3s/step - loss: 0.0085 - accuracy: 1.0000 - val_loss: 0.0021 - val_accuracy: 1.0000\n",
      "Training complete, model saved\n"
     ]
    }
   ],
   "source": [
    "if mode:\n",
    "    print('Commencing training')\n",
    "    if save: # Training and saving\n",
    "        # Callback to save model if validation accuracy improves\n",
    "        checkpoint_val_acc = tf.keras.callbacks.ModelCheckpoint(\n",
    "                model_name, monitor='val_loss', verbose=1, save_best_only=True,\n",
    "                save_weights_only=False,  save_freq='epoch' )\n",
    "\n",
    "        history = model.fit(train_generator,\n",
    "                    batch_size= batch_size,\n",
    "                    callbacks=[checkpoint_val_acc],\n",
    "                    epochs=15,\n",
    "                    validation_data=validation_generator)\n",
    "    else: # Only training\n",
    "        history = model.fit(train_generator,\n",
    "                    batch_size= batch_size,\n",
    "                    epochs=15,\n",
    "                    validation_data=validation_generator)\n",
    "        \n",
    "    print('Training complete, model saved' if save else 'Training complete, model not saved')"
   ]
  },
  {
   "cell_type": "markdown",
   "metadata": {},
   "source": [
    "Dodano rysowanie wykresu zmian parametrów treningu. Zaimplementowany kod nie pokazuje wykresu, tylko zapisuje go w folderze jako plik png."
   ]
  },
  {
   "cell_type": "code",
   "execution_count": 61,
   "metadata": {},
   "outputs": [
    {
     "name": "stdout",
     "output_type": "stream",
     "text": [
      "Drawing training plot\n",
      "Plot finished, it is in the metrics folder\n"
     ]
    },
    {
     "data": {
      "image/png": "[encoded data removed]",
      "text/plain": [
       "<Figure size 720x720 with 1 Axes>"
      ]
     },
     "metadata": {
      "needs_background": "light"
     },
     "output_type": "display_data"
    }
   ],
   "source": [
    "if mode:\n",
    "    print('Drawing training plot')\n",
    "    plt.figure(figsize=(10,10))\n",
    "    plt.plot(history.history['accuracy'], 'orange', label='Training accuracy')\n",
    "    plt.plot(history.history['val_accuracy'], 'blue', label='Validation accuracy')\n",
    "    plt.plot(history.history['loss'], 'red', label='Training loss')\n",
    "    plt.plot(history.history['val_loss'], 'green', label='Validation loss')\n",
    "    plt.legend()\n",
    "    plt.savefig('./metrics/Training_parameters.png')\n",
    "    print('Plot finished, it is in the metrics folder')"
   ]
  },
  {
   "cell_type": "markdown",
   "metadata": {},
   "source": [
    "Następnie zaimplementowano przewidywanie klas obrazów w folderze predict_imgs. W przeciwieństwie do załączonej publikacji pliki nie są podawane indywidualnie, tylko predykcja zachodzi automatycznie dla wszystkich obrazów w folderze, a wyniki zapisywane są do pliku csv w folderze metrics."
   ]
  },
  {
   "cell_type": "code",
   "execution_count": 62,
   "metadata": {},
   "outputs": [
    {
     "name": "stdout",
     "output_type": "stream",
     "text": [
      "Commencing prediction\n",
      "Prediction complete, report is in the metrics folder\n",
      "DONE!\n"
     ]
    }
   ],
   "source": [
    "if not mode:\n",
    "    model = tf.keras.models.load_model(model_name) # load model\n",
    "    \n",
    "print('Commencing prediction')\n",
    "\n",
    "y_pred = [] # List of predictions\n",
    "file_list = os.listdir('./predict_imgs/') # List of all files in the directory\n",
    "for file in file_list:\n",
    "    path = './predict_imgs/' + file\n",
    "    img = tf.keras.preprocessing.image.load_img(path, target_size=img_size) # Importing image\n",
    "    img = tf.keras.preprocessing.image.img_to_array(img) # Converting image to numpy array\n",
    "    x = np.expand_dims(img, axis=0) * 1./255 # Normalizing an array and converting it from (height, width, channels) \n",
    "#to (batchs size, height, width, channels)\n",
    "    score = model.predict(x) # Predicit score\n",
    "    y_pred.append('Chest X-ray' if score<0.5 else 'Abd X-ray')\n",
    "\n",
    "df = pd.DataFrame() # Creating a dataframe to save to csv\n",
    "df['File name'] = file_list # Adding file names\n",
    "df['Class'] = y_pred # Adding predicted classes\n",
    "df.to_csv('./metrics/report.csv', index = False) # Writing outcome to file\n",
    "print('Prediction complete, report is in the metrics folder')\n",
    "print('DONE!')"
   ]
  },
  {
   "cell_type": "markdown",
   "metadata": {},
   "source": [
    "# DODAĆ KOMENTARZ POPRAWY DOKŁADNOŚCI"
   ]
  },
  {
   "cell_type": "code",
   "execution_count": null,
   "metadata": {},
   "outputs": [],
   "source": []
  }
 ],
 "metadata": {
  "kernelspec": {
   "display_name": "Python 3",
   "language": "python",
   "name": "python3"
  },
  "language_info": {
   "codemirror_mode": {
    "name": "ipython",
    "version": 3
   },
   "file_extension": ".py",
   "mimetype": "text/x-python",
   "name": "python",
   "nbconvert_exporter": "python",
   "pygments_lexer": "ipython3",
   "version": "3.8.3"
  }
 },
 "nbformat": 4,
 "nbformat_minor": 4
}
