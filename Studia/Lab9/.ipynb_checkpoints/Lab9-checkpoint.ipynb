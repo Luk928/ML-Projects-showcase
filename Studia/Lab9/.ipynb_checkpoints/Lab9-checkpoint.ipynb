{
 "cells": [
  {
   "cell_type": "markdown",
   "metadata": {},
   "source": [
    "### Łukasz Ozimek 236529\n",
    "### Laboratorium 9 (i poprawa 8)\n",
    "\n",
    "#### Komentarz do laboratorium 8 (poprawa):\n",
    "W laboratorium wykorzystano zestaw zdjęć belgijskich znaków drogowych. Zdjęcia należą do 62 klas, a różnice pomiędzy poszczególnymi obrazami są duże. Obrazy mają różnią się rozmiarami, rozdzielczością, przybliżeniem, oświetleniem oraz kątem rejestracji obrazu. Ponadto różnice między klasami w wielu przypadkach są nieznaczne np. 6 różnych znaków parkingowych różniących się jedynie symbolem w prawym dolnym rogu. Klasy różnią się również ilością obiektów które do niej należą. Obrazy poddano operacji zmniejszenia rozmiaru na 28 x 28, przekonwertowano z RGB na skalę szarości, a następnie stworzono dodatkowe tensory obrazów obróconych o -90 stopni oraz obrazów rozmytych. \n",
    "\n",
    "#### Laboratorium 9\n",
    "\n",
    "* [Początek laboratorium 9](#task1)\n",
    "* [Wizualizacja przykładowych znaków oraz raport dla zestawu testowego](#task2)\n",
    "* [Poprawa sieci i wczesne zatrzymywanie](#task3)\n",
    "\n",
    "Trenując model po raz pierwszy można zaobserwować, że jego dokładność stale rośnie aż do końca treningu, co oznacza, że trenowano model ze zbyt małą ilością epok. Do oszacowania dokładności modelu na zbiorze evaluate użyto metody *evaluate*, która zwraca stratę i dokładność moelu dla podanych danych. \n",
    "Następnie wykonano modyfikacje:\n",
    "* Dodanie kolejnej wartswy konwolucyjnej\n",
    "* Zwiększenie ilości epok do 100\n",
    "* Dodanie wczesnego zatrzymywania\n",
    "\n",
    "Warstwę konwolucyjną dodano, aby przetestować czy poprawi dokładność modelu. Można zauważyć, że już pierwsza wartość dokładności treningu jest wyższa niż w przypadku modelu z 1 wartswą konwolucyjną, co oznacza, że nowa wartstwa poprawiła dokłaność modelu. Ilość epok znacznie zwiększono aby zapewnić, że podczas treningu algorytm zdąży znaleźć optymalne rozwiązanie oraz wiedząc, że wczesne zatrzymywanie zapobiegnie znacznemu przetrenowaniu. Ostatecznie zmodyfikowany model osiągnął wyższą dokładność więc cel laboratorium został spełniony. Poniżej zaprezentowano kod.\n",
    "\n",
    "\n",
    "<br><br>\n",
    "Kod skopiowany z laboratorium 8 (nie zawiera rysowania wykresów oraz jest opatrzony dodatkowymi komentarzami w ramach poprawy):"
   ]
  },
  {
   "cell_type": "code",
   "execution_count": 42,
   "metadata": {},
   "outputs": [],
   "source": [
    "# Code from lab 8\n",
    "import numpy as np\n",
    "import tensorflow as tf\n",
    "import os\n",
    "import cv2\n",
    "from sklearn.model_selection import train_test_split\n",
    "import matplotlib.pyplot as plt\n",
    "import random\n",
    "\n",
    "def load_data(data_directory):\n",
    "    directories = [d for d in os.listdir(data_directory)\n",
    "                  if os.path.isdir(os.path.join(data_directory, d))]\n",
    "    labels = []\n",
    "    images = []\n",
    "    for d in directories:\n",
    "        label_directory = os.path.join(data_directory, d)\n",
    "        file_names = [os.path.join(label_directory,f)\n",
    "                     for f in os.listdir(label_directory)\n",
    "                     if f.endswith('.ppm')]\n",
    "        for f in file_names:\n",
    "            # Sckikt Image didn't work so I used opencv\n",
    "            img = cv2.imread(f)\n",
    "            im_rgb = cv2.cvtColor(img, cv2.COLOR_BGR2RGB) # OpenCV uses BGR, but pyplot used later uses RGB\n",
    "            img = np.asarray(im_rgb)\n",
    "            img = img/255 # Normalizing pixels from 0-255 to 0-1\n",
    "            images.append(img) \n",
    "            labels.append(int(d))\n",
    "\n",
    "    return images, labels\n",
    "\n",
    "root_path = '../Lab8/Data/'\n",
    "train_data_directory = os.path.join(root_path, 'Training/')\n",
    "test_data_directory = os.path.join(root_path, 'Testing/')\n",
    "\n",
    "images, labels = load_data(train_data_directory) # Loading images\n",
    "\n",
    "images28 = [cv2.resize(image, (28, 28)) for image in images] # Resize images to 28 x 28\n",
    "\n",
    "# Function to convert images to grayscale\n",
    "def rgb2gray(rgb):\n",
    "    r, g, b = rgb[:,:,0], rgb[:,:,1], rgb[:,:,2]\n",
    "    gray = 0.2989 * r + 0.5870 * g + 0.1140 * b\n",
    "    return gray\n",
    "\n",
    "images_gray = [rgb2gray(image) for image in images28] # Convert images to grayscale\n",
    "\n",
    "images_rotated = [np.transpose(image) for image in images_gray] # Create rotated gray images\n",
    "\n",
    "import scipy.ndimage as scp\n",
    "images_blurred = [scp.gaussian_filter(image, 2) for image in images_gray] # Create blurred gray images\n"
   ]
  },
  {
   "cell_type": "markdown",
   "metadata": {},
   "source": [
    "<a id='task1'></a>"
   ]
  },
  {
   "cell_type": "code",
   "execution_count": 43,
   "metadata": {},
   "outputs": [
    {
     "name": "stdout",
     "output_type": "stream",
     "text": [
      "Length of images array: 4575; length of labels array: 4575\n",
      "Length of images array: 13725; length of labels array: 13725\n"
     ]
    }
   ],
   "source": [
    "print(\"Length of images array: %d; length of labels array: %d\" % \n",
    "      (len(images_gray),len(labels))) # Printing array sizes before joining\n",
    "\n",
    "images_gray = images_gray + images_rotated # Appending rotated images\n",
    "images_gray= images_gray + images_blurred # Appending blurred images\n",
    "labels = labels + labels # Appending labels for rotated images\n",
    "labels = labels + labels[0:int((len(labels))/2)] # Appending labels for blurred images\n",
    "\n",
    "print(\"Length of images array: %d; length of labels array: %d\" % \n",
    "      (len(images_gray),len(labels))) # Printing array sizes after joining, sizes of images and labels must be the same"
   ]
  },
  {
   "cell_type": "code",
   "execution_count": 44,
   "metadata": {
    "scrolled": true
   },
   "outputs": [],
   "source": [
    "images_data = np.asarray(images_gray) # Converting image array to numpy array\n",
    "images_data = np.expand_dims(images_data, -1) # Converting (x, 28, 28) array to (x, 28, 28, 1) array\n",
    "targets = np.asarray(labels) # Converting labels array to numpy array\n",
    "X_train, X_test, y_train, y_test = train_test_split(images_data, targets, test_size = 0.3)"
   ]
  },
  {
   "cell_type": "code",
   "execution_count": 45,
   "metadata": {},
   "outputs": [],
   "source": [
    "model = tf.keras.models.Sequential()\n",
    "model.add(tf.keras.layers.Conv2D(8, (2, 2), activation='relu', input_shape=[28, 28, 1]))\n",
    "model.add(tf.keras.layers.Flatten())\n",
    "model.add(tf.keras.layers.Dense(62, activation='relu'))\n",
    "model.compile(optimizer='adam',\n",
    "  loss=tf.keras.losses.SparseCategoricalCrossentropy(from_logits=True),\n",
    "  metrics=[\"accuracy\"])"
   ]
  },
  {
   "cell_type": "code",
   "execution_count": 46,
   "metadata": {},
   "outputs": [
    {
     "name": "stdout",
     "output_type": "stream",
     "text": [
      "Epoch 1/10\n",
      "301/301 [==============================] - 2s 6ms/step - loss: 3.4322 - accuracy: 0.2668 - val_loss: 3.2052 - val_accuracy: 0.3142\n",
      "Epoch 2/10\n",
      "301/301 [==============================] - 2s 6ms/step - loss: 3.1195 - accuracy: 0.3253 - val_loss: 3.1117 - val_accuracy: 0.3208\n",
      "Epoch 3/10\n",
      "301/301 [==============================] - 3s 8ms/step - loss: 3.0413 - accuracy: 0.3315 - val_loss: 3.0253 - val_accuracy: 0.3422\n",
      "Epoch 4/10\n",
      "301/301 [==============================] - 2s 7ms/step - loss: 2.9950 - accuracy: 0.3373 - val_loss: 3.0142 - val_accuracy: 0.3344\n",
      "Epoch 5/10\n",
      "301/301 [==============================] - 2s 7ms/step - loss: 2.9617 - accuracy: 0.3417 - val_loss: 2.9753 - val_accuracy: 0.3385\n",
      "Epoch 6/10\n",
      "301/301 [==============================] - 3s 9ms/step - loss: 2.9379 - accuracy: 0.3433 - val_loss: 2.9622 - val_accuracy: 0.3390\n",
      "Epoch 7/10\n",
      "301/301 [==============================] - 3s 8ms/step - loss: 2.9173 - accuracy: 0.3461 - val_loss: 2.9458 - val_accuracy: 0.3434\n",
      "Epoch 8/10\n",
      "301/301 [==============================] - 3s 9ms/step - loss: 2.9024 - accuracy: 0.3472 - val_loss: 2.9366 - val_accuracy: 0.3424\n",
      "Epoch 9/10\n",
      "301/301 [==============================] - 3s 9ms/step - loss: 2.8851 - accuracy: 0.3500 - val_loss: 2.9302 - val_accuracy: 0.3443\n",
      "Epoch 10/10\n",
      "301/301 [==============================] - 2s 8ms/step - loss: 2.8733 - accuracy: 0.3511 - val_loss: 2.9149 - val_accuracy: 0.3460\n"
     ]
    },
    {
     "data": {
      "text/plain": [
       "<tensorflow.python.keras.callbacks.History at 0x21bf3b680d0>"
      ]
     },
     "execution_count": 46,
     "metadata": {},
     "output_type": "execute_result"
    }
   ],
   "source": [
    "model.fit(X_train, y_train, validation_data = (X_test, y_test), epochs=10)"
   ]
  },
  {
   "cell_type": "code",
   "execution_count": 47,
   "metadata": {},
   "outputs": [],
   "source": [
    "sample_indexes = random.sample(range(len(images_data)),10)\n",
    "sample_images = images_data[sample_indexes]\n",
    "sample_labels = targets[sample_indexes]\n",
    "y_pred = model.predict(sample_images)\n",
    "sample_images = [np.squeeze(images_data[i],axis=2) for i in sample_indexes] # Converting array from (28x28x1) to (28x28) for plt\n",
    "y_pred = np.argmax(y_pred, axis=1) # Converting 10 x 62 array into 10 x 1 array by returning index of max value"
   ]
  },
  {
   "cell_type": "code",
   "execution_count": 48,
   "metadata": {},
   "outputs": [
    {
     "name": "stdout",
     "output_type": "stream",
     "text": [
      "Predicted values:\n",
      "[32 22 41  1 32  0  0  1 61 22]\n",
      "Actual values:\n",
      "[32 22 37 19 53  7 47 34 61 40]\n"
     ]
    }
   ],
   "source": [
    "print('Predicted values:')\n",
    "print(y_pred)\n",
    "print('Actual values:')\n",
    "print(sample_labels)"
   ]
  },
  {
   "cell_type": "markdown",
   "metadata": {},
   "source": [
    "<a id='task2'></a>"
   ]
  },
  {
   "cell_type": "code",
   "execution_count": 49,
   "metadata": {},
   "outputs": [
    {
     "data": {
      "image/png": "[encoded data removed]",
      "text/plain": [
       "<Figure size 720x720 with 10 Axes>"
      ]
     },
     "metadata": {
      "needs_background": "light"
     },
     "output_type": "display_data"
    }
   ],
   "source": [
    "fig = plt.figure(figsize=(10,10))\n",
    "for i in range(len(sample_images)):\n",
    "    truth = sample_labels[i]\n",
    "    prediction = y_pred[i]\n",
    "    plt.subplot(5, 2, 1+i)\n",
    "    plt.axis('off')\n",
    "    color='green' if truth == prediction else 'red'\n",
    "    plt.text(40, 10, \"Truth:        {0}\\n Prediction: {1}\".format(truth, prediction),\n",
    "            fontsize=12, color = color)\n",
    "    plt.imshow(sample_images[i], cmap='gray')"
   ]
  },
  {
   "cell_type": "code",
   "execution_count": 50,
   "metadata": {},
   "outputs": [
    {
     "name": "stdout",
     "output_type": "stream",
     "text": [
      "79/79 [==============================] - 0s 2ms/step - loss: 2.6966 - accuracy: 0.3869\n",
      "Loss: 2.696649;\t \t Accuracy: 0.386905\n"
     ]
    }
   ],
   "source": [
    "test_images, test_labels = load_data(test_data_directory)\n",
    "test_images = [cv2.resize(image, (28, 28)) for image in test_images] # Resize images to 28 x 28\n",
    "\n",
    "test_images = [rgb2gray(image) for image in test_images] # Convert images to grayscale\n",
    "images_data_test = np.asarray(test_images) # Converting image array to numpy array\n",
    "images_data_test = np.expand_dims(images_data_test, -1) # Converting (x, 28, 28) array to (x, 28, 28, 1) array\n",
    "targets_test = np.asarray(test_labels) # Converting labels array to numpy array\n",
    "y_eval = model.evaluate(images_data_test, targets_test) # Acquiring loss and accuracy for the testing set\n",
    "print('Loss: %f;\\t \\t Accuracy: %f' % (y_eval[0], y_eval[1]))"
   ]
  },
  {
   "cell_type": "markdown",
   "metadata": {},
   "source": [
    "<a id='task3'></a>"
   ]
  },
  {
   "cell_type": "code",
   "execution_count": 54,
   "metadata": {},
   "outputs": [
    {
     "name": "stdout",
     "output_type": "stream",
     "text": [
      "Epoch 1/100\n",
      "301/301 [==============================] - 2s 7ms/step - loss: 3.3141 - accuracy: 0.3032 - val_loss: 2.8940 - val_accuracy: 0.4036\n",
      "Epoch 2/100\n",
      "301/301 [==============================] - 2s 6ms/step - loss: 2.7774 - accuracy: 0.4172 - val_loss: 2.7314 - val_accuracy: 0.4172\n",
      "Epoch 3/100\n",
      "301/301 [==============================] - 2s 7ms/step - loss: 2.6486 - accuracy: 0.4327 - val_loss: 2.6128 - val_accuracy: 0.4378\n",
      "Epoch 4/100\n",
      "301/301 [==============================] - 2s 6ms/step - loss: 2.5681 - accuracy: 0.4408 - val_loss: 2.5781 - val_accuracy: 0.4407\n",
      "Epoch 5/100\n",
      "301/301 [==============================] - 2s 6ms/step - loss: 2.5132 - accuracy: 0.4478 - val_loss: 2.5388 - val_accuracy: 0.4485\n",
      "Epoch 6/100\n",
      "301/301 [==============================] - 2s 7ms/step - loss: 2.4723 - accuracy: 0.4528 - val_loss: 2.5633 - val_accuracy: 0.4276\n",
      "Epoch 7/100\n",
      "301/301 [==============================] - 2s 7ms/step - loss: 2.4439 - accuracy: 0.4547 - val_loss: 2.5094 - val_accuracy: 0.4468\n",
      "Epoch 8/100\n",
      "301/301 [==============================] - 2s 7ms/step - loss: 2.4166 - accuracy: 0.4584 - val_loss: 2.4663 - val_accuracy: 0.4526\n",
      "Epoch 9/100\n",
      "301/301 [==============================] - 2s 6ms/step - loss: 2.4008 - accuracy: 0.4602 - val_loss: 2.4628 - val_accuracy: 0.4483\n",
      "Epoch 10/100\n",
      "301/301 [==============================] - 2s 6ms/step - loss: 2.3833 - accuracy: 0.4616 - val_loss: 2.4360 - val_accuracy: 0.4577\n",
      "Epoch 11/100\n",
      "301/301 [==============================] - 2s 7ms/step - loss: 2.3681 - accuracy: 0.4622 - val_loss: 2.4451 - val_accuracy: 0.4531\n",
      "Epoch 12/100\n",
      "301/301 [==============================] - 2s 6ms/step - loss: 2.3601 - accuracy: 0.4632 - val_loss: 2.4300 - val_accuracy: 0.4558\n",
      "Epoch 13/100\n",
      "301/301 [==============================] - 2s 6ms/step - loss: 2.3373 - accuracy: 0.4642 - val_loss: 2.4113 - val_accuracy: 0.4558\n",
      "Epoch 14/100\n",
      "301/301 [==============================] - 2s 7ms/step - loss: 2.3327 - accuracy: 0.4652 - val_loss: 2.4203 - val_accuracy: 0.4526\n",
      "Epoch 15/100\n",
      "301/301 [==============================] - 2s 6ms/step - loss: 2.3233 - accuracy: 0.4660 - val_loss: 2.4087 - val_accuracy: 0.4570\n",
      "Epoch 16/100\n",
      "301/301 [==============================] - 2s 6ms/step - loss: 2.3106 - accuracy: 0.4664 - val_loss: 2.4147 - val_accuracy: 0.4541\n",
      "Epoch 17/100\n",
      "301/301 [==============================] - 2s 6ms/step - loss: 2.3023 - accuracy: 0.4676 - val_loss: 2.4053 - val_accuracy: 0.4602\n",
      "Epoch 18/100\n",
      "301/301 [==============================] - 2s 6ms/step - loss: 2.2988 - accuracy: 0.4682 - val_loss: 2.4074 - val_accuracy: 0.4560\n",
      "Epoch 19/100\n",
      "301/301 [==============================] - 2s 6ms/step - loss: 2.2863 - accuracy: 0.4691 - val_loss: 2.3940 - val_accuracy: 0.4599\n",
      "Epoch 20/100\n",
      "301/301 [==============================] - 2s 6ms/step - loss: 2.2828 - accuracy: 0.4714 - val_loss: 2.4151 - val_accuracy: 0.4570\n",
      "Epoch 21/100\n",
      "301/301 [==============================] - 2s 6ms/step - loss: 2.2780 - accuracy: 0.4710 - val_loss: 2.4108 - val_accuracy: 0.4473\n",
      "\n",
      " Training report:\n",
      "Train loss: 2.277959;\t Train accuracy: 0.471011 \t Validation loss: 2.410819;\t Validation accuracy: 0.447305\n",
      "79/79 [==============================] - 0s 3ms/step - loss: 2.3110 - accuracy: 0.4706\n",
      "\n",
      " Testing report:\n",
      "Loss: 2.310998;\t \t Accuracy: 0.470635\n"
     ]
    }
   ],
   "source": [
    "model = tf.keras.models.Sequential()\n",
    "model.add(tf.keras.layers.Conv2D(4, (2, 2), activation='relu', input_shape=[28, 28, 1]))\n",
    "model.add(tf.keras.layers.Conv2D(4, (2, 2), activation='relu')) # Additional convolution layer\n",
    "model.add(tf.keras.layers.Flatten())\n",
    "model.add(tf.keras.layers.Dense(62, activation='relu'))\n",
    "model.compile(optimizer='adam',\n",
    "    loss=tf.keras.losses.SparseCategoricalCrossentropy(from_logits=True),\n",
    "    metrics=[\"accuracy\"])\n",
    "\n",
    "my_callbacks = [tf.keras.callbacks.EarlyStopping(patience=2)] # Adding early stopping callback\n",
    "model.fit(X_train, y_train, validation_data = (X_test, y_test), epochs=100, callbacks=my_callbacks) # Training with 100 epochs\n",
    "print('\\n Training report:')\n",
    "print('Train loss: %f;\\t Train accuracy: %f \\t Validation loss: %f;\\t Validation accuracy: %f' \n",
    "      % (model.history.history['loss'][-1],model.history.history['accuracy'][-1],\n",
    "         model.history.history['val_loss'][-1],model.history.history['val_accuracy'][-1]))\n",
    "          \n",
    "y_eval = model.evaluate(images_data_test, targets_test) # Acquiring loss and accuracy for the testing set\n",
    "print('\\n Testing report:')\n",
    "print('Loss: %f;\\t \\t Accuracy: %f' % (y_eval[0], y_eval[1]))"
   ]
  },
  {
   "cell_type": "code",
   "execution_count": null,
   "metadata": {},
   "outputs": [],
   "source": []
  }
 ],
 "metadata": {
  "kernelspec": {
   "display_name": "Python 3",
   "language": "python",
   "name": "python3"
  },
  "language_info": {
   "codemirror_mode": {
    "name": "ipython",
    "version": 3
   },
   "file_extension": ".py",
   "mimetype": "text/x-python",
   "name": "python",
   "nbconvert_exporter": "python",
   "pygments_lexer": "ipython3",
   "version": "3.8.3"
  }
 },
 "nbformat": 4,
 "nbformat_minor": 4
}
