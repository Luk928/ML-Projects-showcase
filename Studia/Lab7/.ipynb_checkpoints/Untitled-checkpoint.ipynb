{
 "cells": [
  {
   "cell_type": "markdown",
   "metadata": {},
   "source": [
    "### Łukasz Ozimek 236529\n",
    "### Laboratorium 7\n",
    "\n",
    "* [Link do komórki ze zmodyfikowanymi funkcjami](#cell)"
   ]
  },
  {
   "cell_type": "code",
   "execution_count": 241,
   "metadata": {},
   "outputs": [],
   "source": [
    "from sklearn.datasets import load_iris"
   ]
  },
  {
   "cell_type": "code",
   "execution_count": 242,
   "metadata": {},
   "outputs": [],
   "source": [
    "def confusion_matrix(actual, predicted):\n",
    "    unique = set(actual)\n",
    "    matrix = [list() for x in range(len(unique))]\n",
    "    for i in range(len(unique)):\n",
    "        matrix[i]=[0for x in range(len(unique))]\n",
    "    lookup = dict()\n",
    "    for i, value in enumerate(unique):\n",
    "        lookup[value] = i\n",
    "    for i in range(len(actual)):\n",
    "        x = lookup[actual[i]]\n",
    "        y = lookup[predicted[i]]\n",
    "        matrix[y][x] += 1\n",
    "    return unique, matrix\n",
    "\n",
    "def print_confusion_matrix(unique, matrix):\n",
    "    print('(A)'+' '.join(str(x) for x in unique))\n",
    "    print('(P)---')\n",
    "    for i, x in enumerate(unique):\n",
    "        print(\"%s| %s\" % (x, ' '.join(str(x) for x in matrix[i])))"
   ]
  },
  {
   "cell_type": "code",
   "execution_count": 243,
   "metadata": {},
   "outputs": [],
   "source": [
    "iris = load_iris()\n",
    "data = iris.data\n",
    "targets = iris.target\n",
    "names = iris.target_names"
   ]
  },
  {
   "cell_type": "code",
   "execution_count": 244,
   "metadata": {},
   "outputs": [],
   "source": [
    "from sklearn.ensemble import RandomForestClassifier\n",
    "from sklearn.model_selection import train_test_split\n",
    "X_train, X_test, y_train, y_test = train_test_split(data, targets, test_size=0.3, random_state=101)\n",
    "model = RandomForestClassifier()\n",
    "model.fit(X_train, y_train);"
   ]
  },
  {
   "cell_type": "code",
   "execution_count": 245,
   "metadata": {},
   "outputs": [
    {
     "name": "stdout",
     "output_type": "stream",
     "text": [
      "(A)0 1 2\n",
      "(P)---\n",
      "0| 13 0 0\n",
      "1| 0 19 1\n",
      "2| 0 1 11\n"
     ]
    }
   ],
   "source": [
    "y_pred = model.predict(X_test)\n",
    "unique, matrix = confusion_matrix(y_test, y_pred)\n",
    "print_confusion_matrix(unique, matrix)"
   ]
  },
  {
   "cell_type": "markdown",
   "metadata": {},
   "source": [
    "<a id='cell'></a>"
   ]
  },
  {
   "cell_type": "code",
   "execution_count": 246,
   "metadata": {},
   "outputs": [],
   "source": [
    "def confusion_matrix_alt(actual, predicted):\n",
    "    unique = pd.DataFrame(actual, columns=['Column'])['Column'].unique()\n",
    "    matrix = [list() for x in range(len(unique))]\n",
    "    for i in range(len(unique)):\n",
    "        matrix[i]=[0 for x in range(len(unique))]\n",
    "    lookup = dict()\n",
    "    for i, value in enumerate(unique):\n",
    "        lookup[value] = i\n",
    "    for i in range(len(actual)):\n",
    "        x = lookup[int(actual[i])]\n",
    "        y = lookup[int(predicted[i])]\n",
    "        matrix[y][x] += 1\n",
    "    return unique, matrix\n",
    "\n",
    "def print_confusion_matrix_alt(unique, matrix):\n",
    "    print('   (A)\\t '+' '.join(str(x) for x in unique))\n",
    "    print('(P)----------------')\n",
    "    for i, x in enumerate(unique):\n",
    "        print(\"%s\\t| %s\" % (x, ' '.join(str(x) for x in matrix[i])))"
   ]
  },
  {
   "cell_type": "code",
   "execution_count": 251,
   "metadata": {},
   "outputs": [
    {
     "name": "stdout",
     "output_type": "stream",
     "text": [
      "   (A)\t 6 0 15 12 10 17 3 8 1 13 4 5 14 9 11 7 2 16\n",
      "(P)----------------\n",
      "6\t| 15 0 0 0 0 0 0 0 2 0 0 0 0 0 0 0 1 0\n",
      "0\t| 0 23 2 0 0 0 0 0 0 1 0 0 0 1 0 0 0 0\n",
      "15\t| 1 0 13 0 0 1 0 0 0 0 0 0 0 0 0 0 0 0\n",
      "12\t| 0 0 0 25 0 0 0 0 0 0 0 0 0 0 0 0 0 0\n",
      "10\t| 0 0 0 1 7 0 0 0 0 0 0 0 0 0 0 0 1 0\n",
      "17\t| 0 0 1 0 0 30 0 0 0 0 0 0 0 0 1 0 0 0\n",
      "3\t| 0 0 0 0 0 0 11 0 0 0 0 0 0 0 0 1 0 1\n",
      "8\t| 0 0 0 0 1 0 0 6 0 0 0 0 0 0 0 0 0 0\n",
      "1\t| 0 0 0 0 0 0 0 0 3 0 0 1 0 0 0 0 0 0\n",
      "13\t| 0 0 0 0 0 0 0 0 0 11 0 0 0 0 0 0 0 0\n",
      "4\t| 0 0 0 0 0 0 0 0 0 0 6 0 0 0 0 0 0 0\n",
      "5\t| 0 0 0 0 0 0 0 0 0 0 0 10 1 0 0 0 0 0\n",
      "14\t| 0 0 0 0 0 0 0 0 0 0 0 0 14 0 2 0 0 1\n",
      "9\t| 0 0 0 0 0 0 0 3 0 0 0 0 0 26 0 0 0 0\n",
      "11\t| 0 0 0 0 0 0 0 0 0 0 0 0 0 0 3 0 0 0\n",
      "7\t| 0 0 0 0 0 0 0 0 0 0 0 0 0 0 0 0 0 0\n",
      "2\t| 0 0 0 0 0 0 0 0 0 0 0 0 0 0 0 1 6 0\n",
      "16\t| 0 0 0 0 0 0 0 0 0 0 0 1 0 0 0 0 0 6\n"
     ]
    },
    {
     "name": "stderr",
     "output_type": "stream",
     "text": [
      "<ipython-input-251-23713814b6af>:14: DataConversionWarning: A column-vector y was passed when a 1d array was expected. Please change the shape of y to (n_samples,), for example using ravel().\n",
      "  model.fit(X_train, y_train);\n"
     ]
    }
   ],
   "source": [
    "import pandas as pd\n",
    "import numpy as np\n",
    "pokemon_data = pd.read_csv('pokemon.csv')\n",
    "pd.options.display.max_columns = None\n",
    "pokemon_data.drop(['abilities','base_egg_steps','base_happiness','base_total','capture_rate','classfication',\n",
    "                  'experience_growth','height_m','japanese_name','name','percentage_male','pokedex_number',\n",
    "                  'type2','weight_kg','generation','is_legendary'], axis=1, inplace=True)\n",
    "pokemon_data_y = pokemon_data.pop('type1')\n",
    "from sklearn.preprocessing import LabelEncoder\n",
    "le = LabelEncoder()\n",
    "pokemon_data_y = pd.DataFrame(le.fit_transform(pokemon_data_y),columns=['type'])\n",
    "X_train, X_test, y_train, y_test = train_test_split(np.asarray(pokemon_data), np.asarray(pokemon_data_y),\n",
    "                                                    test_size=0.3, random_state=101)\n",
    "model.fit(X_train, y_train);\n",
    "y_pred = model.predict(X_test)\n",
    "unique, matrix = confusion_matrix_alt(y_test, y_pred)\n",
    "print_confusion_matrix_alt(unique, matrix)"
   ]
  },
  {
   "cell_type": "code",
   "execution_count": 252,
   "metadata": {},
   "outputs": [
    {
     "name": "stdout",
     "output_type": "stream",
     "text": [
      "Accuracy: 89.21161825726142\n",
      "MAE: [0.63900415]\n"
     ]
    }
   ],
   "source": [
    "def accuracy_metric(actual, predicted):\n",
    "    correct = 0\n",
    "    for i in range(len(actual)):\n",
    "        if actual[i] == predicted[i]:\n",
    "            correct += 1\n",
    "    return correct / float(len(actual))*100.0\n",
    "\n",
    "def mae_metric(actual, predicted):\n",
    "    sum_error = 0.0\n",
    "    for i in range(len(actual)):\n",
    "        sum_error += abs(predicted[i]-actual[i])\n",
    "    return sum_error / float(len(actual))\n",
    "\n",
    "accuracy = accuracy_metric(y_test, y_pred)\n",
    "print('Accuracy: %s' % (accuracy))\n",
    "mae = mae_metric(y_test, y_pred)\n",
    "print('MAE: %s' % (mae))"
   ]
  },
  {
   "cell_type": "code",
   "execution_count": null,
   "metadata": {},
   "outputs": [],
   "source": []
  }
 ],
 "metadata": {
  "kernelspec": {
   "display_name": "Python 3",
   "language": "python",
   "name": "python3"
  },
  "language_info": {
   "codemirror_mode": {
    "name": "ipython",
    "version": 3
   },
   "file_extension": ".py",
   "mimetype": "text/x-python",
   "name": "python",
   "nbconvert_exporter": "python",
   "pygments_lexer": "ipython3",
   "version": "3.8.3"
  }
 },
 "nbformat": 4,
 "nbformat_minor": 4
}
