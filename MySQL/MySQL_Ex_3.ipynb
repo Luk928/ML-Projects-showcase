{
 "cells": [
  {
   "cell_type": "markdown",
   "metadata": {},
   "source": [
    "# 3 lista SQL\n",
    "### Łukasz Ozimek\n",
    "### 236529"
   ]
  },
  {
   "cell_type": "code",
   "execution_count": 5,
   "metadata": {},
   "outputs": [],
   "source": [
    "import pandas as pd\n",
    "import numpy as np\n",
    "import mysql.connector\n",
    "from getpass import getpass"
   ]
  },
  {
   "cell_type": "code",
   "execution_count": 121,
   "metadata": {},
   "outputs": [
    {
     "data": {
      "text/html": [
       "<div>\n",
       "<style scoped>\n",
       "    .dataframe tbody tr th:only-of-type {\n",
       "        vertical-align: middle;\n",
       "    }\n",
       "\n",
       "    .dataframe tbody tr th {\n",
       "        vertical-align: top;\n",
       "    }\n",
       "\n",
       "    .dataframe thead th {\n",
       "        text-align: right;\n",
       "    }\n",
       "</style>\n",
       "<table border=\"1\" class=\"dataframe\">\n",
       "  <thead>\n",
       "    <tr style=\"text-align: right;\">\n",
       "      <th></th>\n",
       "      <th>emp_id</th>\n",
       "      <th>name</th>\n",
       "      <th>last_name</th>\n",
       "      <th>age</th>\n",
       "      <th>salary</th>\n",
       "    </tr>\n",
       "  </thead>\n",
       "  <tbody>\n",
       "    <tr>\n",
       "      <th>0</th>\n",
       "      <td>23435</td>\n",
       "      <td>John</td>\n",
       "      <td>Smith</td>\n",
       "      <td>43</td>\n",
       "      <td>100000</td>\n",
       "    </tr>\n",
       "    <tr>\n",
       "      <th>1</th>\n",
       "      <td>75536</td>\n",
       "      <td>Jane</td>\n",
       "      <td>Doe</td>\n",
       "      <td>25</td>\n",
       "      <td>40000</td>\n",
       "    </tr>\n",
       "    <tr>\n",
       "      <th>2</th>\n",
       "      <td>78646</td>\n",
       "      <td>Michael</td>\n",
       "      <td>Kane</td>\n",
       "      <td>35</td>\n",
       "      <td>60000</td>\n",
       "    </tr>\n",
       "    <tr>\n",
       "      <th>3</th>\n",
       "      <td>43235</td>\n",
       "      <td>Michelle</td>\n",
       "      <td>Solo</td>\n",
       "      <td>51</td>\n",
       "      <td>120000</td>\n",
       "    </tr>\n",
       "  </tbody>\n",
       "</table>\n",
       "</div>"
      ],
      "text/plain": [
       "   emp_id      name last_name  age  salary\n",
       "0   23435      John     Smith   43  100000\n",
       "1   75536      Jane       Doe   25   40000\n",
       "2   78646   Michael      Kane   35   60000\n",
       "3   43235  Michelle      Solo   51  120000"
      ]
     },
     "metadata": {},
     "output_type": "display_data"
    },
    {
     "data": {
      "text/html": [
       "<div>\n",
       "<style scoped>\n",
       "    .dataframe tbody tr th:only-of-type {\n",
       "        vertical-align: middle;\n",
       "    }\n",
       "\n",
       "    .dataframe tbody tr th {\n",
       "        vertical-align: top;\n",
       "    }\n",
       "\n",
       "    .dataframe thead th {\n",
       "        text-align: right;\n",
       "    }\n",
       "</style>\n",
       "<table border=\"1\" class=\"dataframe\">\n",
       "  <thead>\n",
       "    <tr style=\"text-align: right;\">\n",
       "      <th></th>\n",
       "      <th>client_id</th>\n",
       "      <th>client_name</th>\n",
       "    </tr>\n",
       "  </thead>\n",
       "  <tbody>\n",
       "    <tr>\n",
       "      <th>0</th>\n",
       "      <td>235546</td>\n",
       "      <td>Facebook</td>\n",
       "    </tr>\n",
       "    <tr>\n",
       "      <th>1</th>\n",
       "      <td>667785</td>\n",
       "      <td>Amazon</td>\n",
       "    </tr>\n",
       "    <tr>\n",
       "      <th>2</th>\n",
       "      <td>334432</td>\n",
       "      <td>Netflix</td>\n",
       "    </tr>\n",
       "    <tr>\n",
       "      <th>3</th>\n",
       "      <td>675896</td>\n",
       "      <td>Google</td>\n",
       "    </tr>\n",
       "    <tr>\n",
       "      <th>4</th>\n",
       "      <td>333577</td>\n",
       "      <td>Some company</td>\n",
       "    </tr>\n",
       "  </tbody>\n",
       "</table>\n",
       "</div>"
      ],
      "text/plain": [
       "   client_id   client_name\n",
       "0     235546      Facebook\n",
       "1     667785        Amazon\n",
       "2     334432       Netflix\n",
       "3     675896        Google\n",
       "4     333577  Some company"
      ]
     },
     "metadata": {},
     "output_type": "display_data"
    },
    {
     "data": {
      "text/html": [
       "<div>\n",
       "<style scoped>\n",
       "    .dataframe tbody tr th:only-of-type {\n",
       "        vertical-align: middle;\n",
       "    }\n",
       "\n",
       "    .dataframe tbody tr th {\n",
       "        vertical-align: top;\n",
       "    }\n",
       "\n",
       "    .dataframe thead th {\n",
       "        text-align: right;\n",
       "    }\n",
       "</style>\n",
       "<table border=\"1\" class=\"dataframe\">\n",
       "  <thead>\n",
       "    <tr style=\"text-align: right;\">\n",
       "      <th></th>\n",
       "      <th>client_id</th>\n",
       "      <th>emp_id</th>\n",
       "      <th>price</th>\n",
       "    </tr>\n",
       "  </thead>\n",
       "  <tbody>\n",
       "    <tr>\n",
       "      <th>0</th>\n",
       "      <td>235546</td>\n",
       "      <td>23435</td>\n",
       "      <td>10000</td>\n",
       "    </tr>\n",
       "    <tr>\n",
       "      <th>1</th>\n",
       "      <td>667785</td>\n",
       "      <td>75536</td>\n",
       "      <td>4500</td>\n",
       "    </tr>\n",
       "    <tr>\n",
       "      <th>2</th>\n",
       "      <td>334432</td>\n",
       "      <td>78646</td>\n",
       "      <td>80000</td>\n",
       "    </tr>\n",
       "    <tr>\n",
       "      <th>3</th>\n",
       "      <td>675896</td>\n",
       "      <td>43235</td>\n",
       "      <td>34000</td>\n",
       "    </tr>\n",
       "    <tr>\n",
       "      <th>4</th>\n",
       "      <td>333577</td>\n",
       "      <td>23435</td>\n",
       "      <td>10000</td>\n",
       "    </tr>\n",
       "  </tbody>\n",
       "</table>\n",
       "</div>"
      ],
      "text/plain": [
       "   client_id  emp_id  price\n",
       "0     235546   23435  10000\n",
       "1     667785   75536   4500\n",
       "2     334432   78646  80000\n",
       "3     675896   43235  34000\n",
       "4     333577   23435  10000"
      ]
     },
     "metadata": {},
     "output_type": "display_data"
    }
   ],
   "source": [
    "# Data and the tables created in this project\n",
    "employees = {\n",
    "    'emp_id':[23435,75536,78646,43235],\n",
    "    'name':['John','Jane','Michael','Michelle'],\n",
    "    'last_name':['Smith','Doe','Kane','Solo'],\n",
    "    'age':[43,25,35,51],\n",
    "    'salary':[100000,40000,60000,120000]\n",
    "}\n",
    "\n",
    "clients = {\n",
    "    'client_id':[235546,667785,334432,675896,333577],\n",
    "    'client_name':['Facebook','Amazon','Netflix','Google','Some company']\n",
    "}\n",
    "\n",
    "projects = {\n",
    "    'client_id':[235546,667785,334432,675896,333577],\n",
    "    'emp_id':[23435,75536,78646,43235,23435],\n",
    "    'price':[10000,4500,80000,34000,10000]\n",
    "}\n",
    "\n",
    "emp_df = pd.DataFrame.from_dict(employees) \n",
    "client_df = pd.DataFrame.from_dict(clients)\n",
    "project_df = pd.DataFrame.from_dict(projects)\n",
    "display(emp_df)\n",
    "display(client_df)\n",
    "display(project_df)"
   ]
  },
  {
   "cell_type": "code",
   "execution_count": 15,
   "metadata": {},
   "outputs": [
    {
     "name": "stdout",
     "output_type": "stream",
     "text": [
      "Enter username: root\n",
      "Enter password: ········\n",
      "<mysql.connector.connection_cext.CMySQLConnection object at 0x000001D452952AF0>\n"
     ]
    }
   ],
   "source": [
    "# Connecting to localhost with user input\n",
    "mydb = mysql.connector.connect(\n",
    "    host=\"localhost\",\n",
    "    user=input(\"Enter username: \"),\n",
    "    password=getpass(\"Enter password: \"))\n",
    "print(mydb)"
   ]
  },
  {
   "cell_type": "code",
   "execution_count": 21,
   "metadata": {},
   "outputs": [
    {
     "name": "stdout",
     "output_type": "stream",
     "text": [
      "('information_schema',)\n",
      "('mysql',)\n",
      "('performance_schema',)\n",
      "('sakila',)\n",
      "('sys',)\n",
      "('world',)\n",
      "\n",
      " Database creation \n",
      "\n",
      "('excercise_database',)\n",
      "('information_schema',)\n",
      "('mysql',)\n",
      "('performance_schema',)\n",
      "('sakila',)\n",
      "('sys',)\n",
      "('world',)\n"
     ]
    }
   ],
   "source": [
    "# Creating cursor\n",
    "cursor = mydb.cursor()\n",
    "\n",
    "def show_database_list(cursor):\n",
    "    # Show database\n",
    "    query = 'SHOW DATABASES'\n",
    "    cursor.execute(query)\n",
    "    for db in cursor:\n",
    "        print(db)\n",
    "    \n",
    "show_database_list(cursor)\n",
    "\n",
    "# Creating database\n",
    "print('\\n Database creation \\n')\n",
    "try:\n",
    "    query = 'CREATE DATABASE excercise_database'\n",
    "    cursor.execute(query)\n",
    "except:\n",
    "    # Deleting databse if it already exists\n",
    "    query = 'DROP DATABASE excercise_database'\n",
    "    cursor.execute(query)\n",
    "    query = 'CREATE DATABASE excercise_database'\n",
    "    cursor.execute(query)\n",
    "\n",
    "show_database_list(cursor)"
   ]
  },
  {
   "cell_type": "code",
   "execution_count": 128,
   "metadata": {},
   "outputs": [
    {
     "name": "stdout",
     "output_type": "stream",
     "text": [
      "Enter username: root\n",
      "Enter password: ········\n",
      "<mysql.connector.connection_cext.CMySQLConnection object at 0x000001D4527B0370>\n"
     ]
    }
   ],
   "source": [
    "# Connecting to localhost database with user input\n",
    "mydb = mysql.connector.connect(\n",
    "    host=\"localhost\",\n",
    "    user=input(\"Enter username: \"),\n",
    "    password=getpass(\"Enter password: \"),\n",
    "    database = 'excercise_database')\n",
    "print(mydb)\n",
    "cursor = mydb.cursor()"
   ]
  },
  {
   "cell_type": "code",
   "execution_count": 31,
   "metadata": {},
   "outputs": [
    {
     "name": "stdout",
     "output_type": "stream",
     "text": [
      "('clients',)\n",
      "('employees',)\n",
      "('projects',)\n"
     ]
    }
   ],
   "source": [
    "# Creating the employees table\n",
    "query = \"\"\"\n",
    "CREATE TABLE employees(\n",
    "    emp_id INT PRIMARY KEY,\n",
    "    name VARCHAR(30),\n",
    "    last_name VARCHAR(30),\n",
    "    age INT,\n",
    "    salary INT\n",
    ")\n",
    "\"\"\"\n",
    "cursor.execute(query)\n",
    "mydb.commit()\n",
    "\n",
    "# Creating the clients table\n",
    "query = \"\"\"\n",
    "CREATE TABLE clients(\n",
    "    client_id INT PRIMARY KEY,\n",
    "    client_name VARCHAR(30)\n",
    ")\n",
    "\"\"\"\n",
    "cursor.execute(query)\n",
    "mydb.commit()\n",
    "\n",
    "# Creating the projects table\n",
    "query = \"\"\"\n",
    "CREATE TABLE projects(\n",
    "    emp_id INT,\n",
    "    client_id INT,\n",
    "    price INT,\n",
    "    PRIMARY KEY(emp_id,client_id),\n",
    "    FOREIGN KEY(emp_id) REFERENCES employees(emp_id) ON DELETE CASCADE,\n",
    "    FOREIGN KEY(client_id) REFERENCES clients(client_id) ON DELETE CASCADE\n",
    ")\n",
    "\"\"\"\n",
    "cursor.execute(query)\n",
    "mydb.commit()\n",
    "\n",
    "# Show list of tables in database\n",
    "query=\"SHOW TABLES\"\n",
    "cursor.execute(query)\n",
    "for tb in cursor:\n",
    "    print(tb)"
   ]
  },
  {
   "cell_type": "code",
   "execution_count": 122,
   "metadata": {},
   "outputs": [],
   "source": [
    "def df_to_query(table, dataframe):\n",
    "    # Function to turn a dataframe into a SQL query (pandas to_sql() function doesn't work with mysql.connector)\n",
    "    query = \"INSERT INTO \"+table+\" (\"\n",
    "    string = ''\n",
    "    for i in dataframe.columns:\n",
    "        string = string + i+','\n",
    "    string = string[0:-1]\n",
    "    query = query+string+') VALUES'\n",
    "    str_list = []\n",
    "    for i in range(0,dataframe.shape[0]):\n",
    "        str2 = ''\n",
    "        df_row = dataframe[i:i+1]\n",
    "        vals=df_row.values.tolist()[0]\n",
    "        for val in vals:\n",
    "            if type(val)==str:\n",
    "                str2 = str2+\"\\\"\"+val+\"\\\",\"\n",
    "            else:\n",
    "                str2 = str2+str(val)+','\n",
    "        str_list.append(str2)\n",
    "\n",
    "    for idx,item in enumerate(str_list):\n",
    "        str_list[idx] = '('+item[0:-1]+')'\n",
    "\n",
    "    for i in str_list:\n",
    "        query = query+i+','\n",
    "    query = query[0:-1]\n",
    "    return query\n",
    "\n",
    "# Using the function to create the employees table\n",
    "query = df_to_query('employees',emp_df)\n",
    "cursor.execute(query)\n",
    "mydb.commit()"
   ]
  },
  {
   "cell_type": "code",
   "execution_count": 129,
   "metadata": {},
   "outputs": [
    {
     "name": "stdout",
     "output_type": "stream",
     "text": [
      "(23435, 'John', 'Smith', 43, 100000)\n",
      "(43235, 'Michelle', 'Solo', 51, 120000)\n",
      "(75536, 'Jane', 'Doe', 25, 40000)\n",
      "(78646, 'Michael', 'Kane', 35, 60000)\n"
     ]
    }
   ],
   "source": [
    "cursor = mydb.cursor(buffered=True)\n",
    "# Displaying data from the employees table\n",
    "query = \"SELECT * FROM employees\"\n",
    "cursor.execute(query)\n",
    "result = cursor.fetchall()\n",
    "\n",
    "for x in result:\n",
    "    print(x)"
   ]
  },
  {
   "cell_type": "code",
   "execution_count": 130,
   "metadata": {
    "scrolled": true
   },
   "outputs": [],
   "source": [
    "# Using the function to create the clients table\n",
    "query = df_to_query('clients',client_df)\n",
    "cursor.execute(query)\n",
    "mydb.commit()\n",
    "\n",
    "\n",
    "# Using the function to create the projects table\n",
    "query = df_to_query('projects',project_df)\n",
    "cursor.execute(query)\n",
    "mydb.commit()"
   ]
  },
  {
   "cell_type": "code",
   "execution_count": 131,
   "metadata": {},
   "outputs": [
    {
     "name": "stdout",
     "output_type": "stream",
     "text": [
      "\t Clients table: \n",
      "\n",
      "(235546, 'Facebook')\n",
      "(333577, 'Some company')\n",
      "(334432, 'Netflix')\n",
      "(667785, 'Amazon')\n",
      "(675896, 'Google')\n",
      "\n",
      "\t Projects table: \n",
      "\n",
      "(23435, 235546, 10000)\n",
      "(23435, 333577, 10000)\n",
      "(43235, 675896, 34000)\n",
      "(75536, 667785, 4500)\n",
      "(78646, 334432, 80000)\n"
     ]
    }
   ],
   "source": [
    "query = \"SELECT * FROM clients\"\n",
    "cursor.execute(query)\n",
    "result = cursor.fetchall()\n",
    "\n",
    "print('\\t Clients table: \\n')\n",
    "for x in result:\n",
    "    print(x)\n",
    "    \n",
    "query = \"SELECT * FROM projects\"\n",
    "cursor.execute(query)\n",
    "result = cursor.fetchall()\n",
    "\n",
    "print('\\n\\t Projects table: \\n')\n",
    "for x in result:\n",
    "    print(x)"
   ]
  },
  {
   "cell_type": "code",
   "execution_count": 133,
   "metadata": {},
   "outputs": [
    {
     "name": "stdout",
     "output_type": "stream",
     "text": [
      "(75536, 667785, 4500)\n",
      "(23435, 235546, 10000)\n",
      "(23435, 333577, 10000)\n",
      "(43235, 675896, 34000)\n",
      "(78646, 334432, 80000)\n"
     ]
    }
   ],
   "source": [
    "# Selecting all project and ordering vy price\n",
    "query = \"SELECT * FROM projects ORDER BY price, client_id\"\n",
    "cursor.execute(query)\n",
    "result = cursor.fetchall()\n",
    "\n",
    "for x in result:\n",
    "    print(x)"
   ]
  },
  {
   "cell_type": "code",
   "execution_count": 134,
   "metadata": {},
   "outputs": [
    {
     "name": "stdout",
     "output_type": "stream",
     "text": [
      "(10000,)\n",
      "(34000,)\n",
      "(4500,)\n",
      "(80000,)\n"
     ]
    }
   ],
   "source": [
    "# Selecting distinct values from projects\n",
    "query = \"SELECT DISTINCT price FROM projects\"\n",
    "cursor.execute(query)\n",
    "result = cursor.fetchall()\n",
    "\n",
    "for x in result:\n",
    "    print(x)"
   ]
  },
  {
   "cell_type": "code",
   "execution_count": 136,
   "metadata": {},
   "outputs": [
    {
     "name": "stdout",
     "output_type": "stream",
     "text": [
      "(2,)\n"
     ]
    }
   ],
   "source": [
    "# Counting emloyees over 30 with salary bigger than 70000\n",
    "query = \"SELECT COUNT(emp_id) FROM employees WHERE salary>70000 AND age>30\"\n",
    "cursor.execute(query)\n",
    "result = cursor.fetchall()\n",
    "\n",
    "for x in result:\n",
    "    print(x)"
   ]
  },
  {
   "cell_type": "code",
   "execution_count": 137,
   "metadata": {},
   "outputs": [
    {
     "name": "stdout",
     "output_type": "stream",
     "text": [
      "(Decimal('27700.0000'),)\n"
     ]
    }
   ],
   "source": [
    "# Getting the average project price\n",
    "query = \"SELECT AVG(price) FROM projects\"\n",
    "cursor.execute(query)\n",
    "result = cursor.fetchall()\n",
    "\n",
    "for x in result:\n",
    "    print(x)"
   ]
  },
  {
   "cell_type": "code",
   "execution_count": 142,
   "metadata": {},
   "outputs": [
    {
     "name": "stdout",
     "output_type": "stream",
     "text": [
      "('John', 'Smith')\n",
      "('Jane', 'Doe')\n"
     ]
    }
   ],
   "source": [
    "# Selecting names and last names of employees, whose names start with J\n",
    "query = \"SELECT name, last_name FROM employees WHERE name LIKE 'J%'\"\n",
    "cursor.execute(query)\n",
    "result = cursor.fetchall()\n",
    "\n",
    "for x in result:\n",
    "    print(x)"
   ]
  },
  {
   "cell_type": "code",
   "execution_count": 149,
   "metadata": {},
   "outputs": [
    {
     "name": "stdout",
     "output_type": "stream",
     "text": [
      "('John', 'Smith', 235546, 10000)\n",
      "('John', 'Smith', 333577, 10000)\n",
      "('Michelle', 'Solo', 675896, 34000)\n",
      "('Jane', 'Doe', 667785, 4500)\n",
      "('Michael', 'Kane', 334432, 80000)\n"
     ]
    }
   ],
   "source": [
    "# Selecting all project and ordering vy price\n",
    "query = \"\"\"\n",
    "    SELECT employees.name, employees.last_name, projects.client_id, projects.price \n",
    "    FROM projects JOIN employees ON employees.emp_id=projects.emp_id\n",
    "\"\"\"\n",
    "cursor.execute(query)\n",
    "result = cursor.fetchall()\n",
    "\n",
    "for x in result:\n",
    "    print(x)"
   ]
  },
  {
   "cell_type": "code",
   "execution_count": 158,
   "metadata": {},
   "outputs": [
    {
     "name": "stdout",
     "output_type": "stream",
     "text": [
      "('John', 'Smith', 'Facebook', 10000)\n",
      "('John', 'Smith', 'Some company', 10000)\n",
      "('Michelle', 'Solo', 'Google', 34000)\n",
      "('Jane', 'Doe', 'Amazon', 4500)\n",
      "('Michael', 'Kane', 'Netflix', 80000)\n"
     ]
    }
   ],
   "source": [
    "# Query to select names of employees and clients related to certain projects\n",
    "query = \"\"\"\n",
    "SELECT employees.name, employees.last_name, clients.client_name, projects.price\n",
    "FROM projects\n",
    "JOIN employees ON employees.emp_id=projects.emp_id\n",
    "JOIN clients ON clients.client_id=projects.client_id\n",
    "\"\"\"\n",
    "cursor.execute(query)\n",
    "result = cursor.fetchall()\n",
    "\n",
    "for x in result:\n",
    "    print(x)"
   ]
  },
  {
   "cell_type": "code",
   "execution_count": 160,
   "metadata": {},
   "outputs": [
    {
     "name": "stdout",
     "output_type": "stream",
     "text": [
      "('Netflix',)\n",
      "('Google',)\n"
     ]
    }
   ],
   "source": [
    "# Selecting client names of clients with projects over 10000\n",
    "query = \"\"\"\n",
    "SELECT clients.client_name FROM clients WHERE client_id IN\n",
    "(SELECT projects.client_id FROM projects WHERE projects.price>10000)\n",
    "\"\"\"\n",
    "cursor.execute(query)\n",
    "result = cursor.fetchall()\n",
    "\n",
    "for x in result:\n",
    "    print(x)"
   ]
  },
  {
   "cell_type": "code",
   "execution_count": 195,
   "metadata": {},
   "outputs": [],
   "source": [
    "# A function to allow a user to add employees\n",
    "def add_employee(emp_id, name, last_name,age,salary):\n",
    "    # Downloading list of employee IDs to ensure the new one is unique\n",
    "    query = \"SELECT emp_id FROM employees\"\n",
    "    cursor.execute(query)\n",
    "    results = cursor.fetchall()\n",
    "    \n",
    "    # Argument validation\n",
    "        # ID:\n",
    "    if not isinstance(emp_id, int):\n",
    "        raise Exception('Employee ID must be a number')\n",
    "    if emp_id<10000 or emp_id > 99999:\n",
    "        raise Exception('Employee ID must have 5 digits')\n",
    "    if (emp_id,) in results:\n",
    "        raise Exception('Employee ID must be unique')\n",
    "        \n",
    "        # Name:\n",
    "    if not isinstance(name, str):\n",
    "        raise Exception('Employee name must be a string')\n",
    "    if len(name)<2 or len(name) > 30:\n",
    "        raise Exception('Employee name must be between 2-30 characters')\n",
    "    name = '\\\"'+name+'\\\"'\n",
    "    \n",
    "        # Last name:\n",
    "    if not isinstance(last_name, str):\n",
    "        raise Exception('Employee name must be a string')\n",
    "    if len(last_name)<2 or len(last_name) > 30:\n",
    "        raise Exception('Employee name must be between 2-30 characters')\n",
    "    last_name = '\\\"'+last_name+'\\\"'\n",
    "    \n",
    "        # Age\n",
    "    if not isinstance(age, int):\n",
    "        raise Exception('Employee age must be a number')\n",
    "    if age<10 or age > 200:\n",
    "        raise Exception('Employee must be 10-200 years old')\n",
    "        \n",
    "        # Salary\n",
    "    if not isinstance(salary, int):\n",
    "        raise Exception('Salary must be a number')\n",
    "    if salary<1000:\n",
    "        raise Exception('Salary must be higher than 1000')\n",
    "        \n",
    "    query = \"\"\"\n",
    "    INSERT INTO employees(emp_id, name, last_name, age, salary)\n",
    "    VALUES (%s, %s, %s, %s, %s)\n",
    "    \"\"\" % (emp_id, name, last_name, age, salary)\n",
    "    cursor.execute(query)\n",
    "    mydb.commit()\n"
   ]
  },
  {
   "cell_type": "code",
   "execution_count": 196,
   "metadata": {},
   "outputs": [
    {
     "name": "stdout",
     "output_type": "stream",
     "text": [
      "Employees table before adding an employee\n"
     ]
    },
    {
     "data": {
      "text/html": [
       "<div>\n",
       "<style scoped>\n",
       "    .dataframe tbody tr th:only-of-type {\n",
       "        vertical-align: middle;\n",
       "    }\n",
       "\n",
       "    .dataframe tbody tr th {\n",
       "        vertical-align: top;\n",
       "    }\n",
       "\n",
       "    .dataframe thead th {\n",
       "        text-align: right;\n",
       "    }\n",
       "</style>\n",
       "<table border=\"1\" class=\"dataframe\">\n",
       "  <thead>\n",
       "    <tr style=\"text-align: right;\">\n",
       "      <th></th>\n",
       "      <th>emp_id</th>\n",
       "      <th>name</th>\n",
       "      <th>last_name</th>\n",
       "      <th>age</th>\n",
       "      <th>salary</th>\n",
       "    </tr>\n",
       "  </thead>\n",
       "  <tbody>\n",
       "    <tr>\n",
       "      <th>0</th>\n",
       "      <td>23435</td>\n",
       "      <td>John</td>\n",
       "      <td>Smith</td>\n",
       "      <td>43</td>\n",
       "      <td>100000</td>\n",
       "    </tr>\n",
       "    <tr>\n",
       "      <th>1</th>\n",
       "      <td>43235</td>\n",
       "      <td>Michelle</td>\n",
       "      <td>Solo</td>\n",
       "      <td>51</td>\n",
       "      <td>120000</td>\n",
       "    </tr>\n",
       "    <tr>\n",
       "      <th>2</th>\n",
       "      <td>75536</td>\n",
       "      <td>Jane</td>\n",
       "      <td>Doe</td>\n",
       "      <td>25</td>\n",
       "      <td>40000</td>\n",
       "    </tr>\n",
       "    <tr>\n",
       "      <th>3</th>\n",
       "      <td>78646</td>\n",
       "      <td>Michael</td>\n",
       "      <td>Kane</td>\n",
       "      <td>35</td>\n",
       "      <td>60000</td>\n",
       "    </tr>\n",
       "  </tbody>\n",
       "</table>\n",
       "</div>"
      ],
      "text/plain": [
       "   emp_id      name last_name  age  salary\n",
       "0   23435      John     Smith   43  100000\n",
       "1   43235  Michelle      Solo   51  120000\n",
       "2   75536      Jane       Doe   25   40000\n",
       "3   78646   Michael      Kane   35   60000"
      ]
     },
     "metadata": {},
     "output_type": "display_data"
    },
    {
     "name": "stdout",
     "output_type": "stream",
     "text": [
      "\n",
      "\n",
      "Employees table after adding an employee\n"
     ]
    },
    {
     "data": {
      "text/html": [
       "<div>\n",
       "<style scoped>\n",
       "    .dataframe tbody tr th:only-of-type {\n",
       "        vertical-align: middle;\n",
       "    }\n",
       "\n",
       "    .dataframe tbody tr th {\n",
       "        vertical-align: top;\n",
       "    }\n",
       "\n",
       "    .dataframe thead th {\n",
       "        text-align: right;\n",
       "    }\n",
       "</style>\n",
       "<table border=\"1\" class=\"dataframe\">\n",
       "  <thead>\n",
       "    <tr style=\"text-align: right;\">\n",
       "      <th></th>\n",
       "      <th>emp_id</th>\n",
       "      <th>name</th>\n",
       "      <th>last_name</th>\n",
       "      <th>age</th>\n",
       "      <th>salary</th>\n",
       "      <th>salary_no_tax</th>\n",
       "    </tr>\n",
       "  </thead>\n",
       "  <tbody>\n",
       "    <tr>\n",
       "      <th>0</th>\n",
       "      <td>23435</td>\n",
       "      <td>John</td>\n",
       "      <td>Smith</td>\n",
       "      <td>43</td>\n",
       "      <td>100000</td>\n",
       "      <td>200000</td>\n",
       "    </tr>\n",
       "    <tr>\n",
       "      <th>1</th>\n",
       "      <td>23436</td>\n",
       "      <td>Adam</td>\n",
       "      <td>Małysz</td>\n",
       "      <td>50</td>\n",
       "      <td>500000</td>\n",
       "      <td>1000000</td>\n",
       "    </tr>\n",
       "    <tr>\n",
       "      <th>2</th>\n",
       "      <td>43235</td>\n",
       "      <td>Michelle</td>\n",
       "      <td>Solo</td>\n",
       "      <td>51</td>\n",
       "      <td>120000</td>\n",
       "      <td>240000</td>\n",
       "    </tr>\n",
       "    <tr>\n",
       "      <th>3</th>\n",
       "      <td>75536</td>\n",
       "      <td>Jane</td>\n",
       "      <td>Doe</td>\n",
       "      <td>25</td>\n",
       "      <td>40000</td>\n",
       "      <td>80000</td>\n",
       "    </tr>\n",
       "    <tr>\n",
       "      <th>4</th>\n",
       "      <td>78646</td>\n",
       "      <td>Michael</td>\n",
       "      <td>Kane</td>\n",
       "      <td>35</td>\n",
       "      <td>60000</td>\n",
       "      <td>120000</td>\n",
       "    </tr>\n",
       "  </tbody>\n",
       "</table>\n",
       "</div>"
      ],
      "text/plain": [
       "   emp_id      name last_name  age  salary  salary_no_tax\n",
       "0   23435      John     Smith   43  100000         200000\n",
       "1   23436      Adam    Małysz   50  500000        1000000\n",
       "2   43235  Michelle      Solo   51  120000         240000\n",
       "3   75536      Jane       Doe   25   40000          80000\n",
       "4   78646   Michael      Kane   35   60000         120000"
      ]
     },
     "metadata": {},
     "output_type": "display_data"
    }
   ],
   "source": [
    "# Testing the employee adding function\n",
    "print('Employees table before adding an employee')\n",
    "query = 'SELECT * FROM employees'\n",
    "cursor.execute(query)\n",
    "results = cursor.fetchall()\n",
    "display(pd.DataFrame(results, columns=emp_df.columns))\n",
    "\n",
    "add_employee(23436,'Adam','Małysz',50,500000)\n",
    "\n",
    "print('\\n\\nEmployees table after adding an employee')\n",
    "query = 'SELECT * FROM employees'\n",
    "cursor.execute(query)\n",
    "results = cursor.fetchall()\n",
    "result_df=pd.DataFrame(results, columns=emp_df.columns)\n",
    "result_df['salary_no_tax'] = result_df['salary']*2\n",
    "display(result_df)"
   ]
  },
  {
   "cell_type": "code",
   "execution_count": null,
   "metadata": {},
   "outputs": [],
   "source": []
  }
 ],
 "metadata": {
  "kernelspec": {
   "display_name": "Python 3",
   "language": "python",
   "name": "python3"
  },
  "language_info": {
   "codemirror_mode": {
    "name": "ipython",
    "version": 3
   },
   "file_extension": ".py",
   "mimetype": "text/x-python",
   "name": "python",
   "nbconvert_exporter": "python",
   "pygments_lexer": "ipython3",
   "version": "3.8.3"
  }
 },
 "nbformat": 4,
 "nbformat_minor": 4
}
